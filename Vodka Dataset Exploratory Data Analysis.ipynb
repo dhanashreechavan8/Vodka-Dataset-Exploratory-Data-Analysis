{
 "cells": [
  {
   "cell_type": "markdown",
   "metadata": {},
   "source": [
    "## Importing required libraries"
   ]
  },
  {
   "cell_type": "code",
   "execution_count": 1,
   "metadata": {},
   "outputs": [],
   "source": [
    "import pandas as pd\n",
    "import numpy as np\n",
    "import matplotlib.pyplot as plt\n",
    "import seaborn as sns\n",
    "%matplotlib inline"
   ]
  },
  {
   "cell_type": "markdown",
   "metadata": {},
   "source": [
    "## To display all rows in output"
   ]
  },
  {
   "cell_type": "code",
   "execution_count": 2,
   "metadata": {},
   "outputs": [],
   "source": [
    "pd.set_option('display.max_columns',None)"
   ]
  },
  {
   "cell_type": "markdown",
   "metadata": {},
   "source": [
    "## Import Vodka Dataset"
   ]
  },
  {
   "cell_type": "code",
   "execution_count": 3,
   "metadata": {},
   "outputs": [],
   "source": [
    "vodka=pd.read_csv(\"~/Desktop/vodka.csv\",low_memory=False)"
   ]
  },
  {
   "cell_type": "markdown",
   "metadata": {},
   "source": [
    "## Check First 5 rows"
   ]
  },
  {
   "cell_type": "code",
   "execution_count": 4,
   "metadata": {
    "scrolled": true
   },
   "outputs": [
    {
     "data": {
      "text/html": [
       "<div>\n",
       "<style scoped>\n",
       "    .dataframe tbody tr th:only-of-type {\n",
       "        vertical-align: middle;\n",
       "    }\n",
       "\n",
       "    .dataframe tbody tr th {\n",
       "        vertical-align: top;\n",
       "    }\n",
       "\n",
       "    .dataframe thead th {\n",
       "        text-align: right;\n",
       "    }\n",
       "</style>\n",
       "<table border=\"1\" class=\"dataframe\">\n",
       "  <thead>\n",
       "    <tr style=\"text-align: right;\">\n",
       "      <th></th>\n",
       "      <th>Unnamed: 0</th>\n",
       "      <th>Invoice/Item Number</th>\n",
       "      <th>Date</th>\n",
       "      <th>Store Number</th>\n",
       "      <th>Store Name</th>\n",
       "      <th>Address</th>\n",
       "      <th>City</th>\n",
       "      <th>Zip Code</th>\n",
       "      <th>Store Location</th>\n",
       "      <th>County Number</th>\n",
       "      <th>County</th>\n",
       "      <th>Category</th>\n",
       "      <th>Category Name</th>\n",
       "      <th>Vendor Number</th>\n",
       "      <th>Vendor Name</th>\n",
       "      <th>Item Number</th>\n",
       "      <th>Item Description</th>\n",
       "      <th>Pack</th>\n",
       "      <th>Bottle Volume (ml)</th>\n",
       "      <th>State Bottle Cost</th>\n",
       "      <th>State Bottle Retail</th>\n",
       "      <th>Bottles Sold</th>\n",
       "      <th>Sale (Dollars)</th>\n",
       "      <th>Volume Sold (Liters)</th>\n",
       "      <th>Volume Sold (Gallons)</th>\n",
       "    </tr>\n",
       "  </thead>\n",
       "  <tbody>\n",
       "    <tr>\n",
       "      <th>0</th>\n",
       "      <td>1</td>\n",
       "      <td>S13206600042</td>\n",
       "      <td>07/08/2013</td>\n",
       "      <td>3908</td>\n",
       "      <td>County Market #214 / Fort Madison</td>\n",
       "      <td>11802 AVENUE H</td>\n",
       "      <td>FORT MADISON</td>\n",
       "      <td>52627</td>\n",
       "      <td>11802 AVENUE H\\nFORT MADISON 52627\\n</td>\n",
       "      <td>56.0</td>\n",
       "      <td>Lee</td>\n",
       "      <td>1031200</td>\n",
       "      <td>VODKA FLAVORED</td>\n",
       "      <td>380</td>\n",
       "      <td>Phillips Beverage Company</td>\n",
       "      <td>41694</td>\n",
       "      <td>Uv Blue (raspberry) Vodka</td>\n",
       "      <td>12</td>\n",
       "      <td>1000</td>\n",
       "      <td>$7.50</td>\n",
       "      <td>$11.25</td>\n",
       "      <td>12</td>\n",
       "      <td>$135.00</td>\n",
       "      <td>12.0</td>\n",
       "      <td>3.17</td>\n",
       "    </tr>\n",
       "    <tr>\n",
       "      <th>1</th>\n",
       "      <td>2</td>\n",
       "      <td>S29065400007</td>\n",
       "      <td>11/16/2015</td>\n",
       "      <td>2555</td>\n",
       "      <td>Hy-Vee Food Store / Keokuk</td>\n",
       "      <td>3111 MAIN</td>\n",
       "      <td>KEOKUK</td>\n",
       "      <td>52632</td>\n",
       "      <td>3111 MAIN\\nKEOKUK 52632\\n(40.414975, -91.403338)</td>\n",
       "      <td>56.0</td>\n",
       "      <td>Lee</td>\n",
       "      <td>1031080</td>\n",
       "      <td>VODKA 80 PROOF</td>\n",
       "      <td>260</td>\n",
       "      <td>Diageo Americas</td>\n",
       "      <td>37996</td>\n",
       "      <td>Smirnoff Vodka 80 Prf</td>\n",
       "      <td>12</td>\n",
       "      <td>750</td>\n",
       "      <td>$8.25</td>\n",
       "      <td>$12.38</td>\n",
       "      <td>12</td>\n",
       "      <td>$148.56</td>\n",
       "      <td>9.0</td>\n",
       "      <td>2.38</td>\n",
       "    </tr>\n",
       "    <tr>\n",
       "      <th>2</th>\n",
       "      <td>3</td>\n",
       "      <td>S08372100023</td>\n",
       "      <td>10/16/2012</td>\n",
       "      <td>3816</td>\n",
       "      <td>Swils</td>\n",
       "      <td>200 E OAK ST</td>\n",
       "      <td>RED OAK</td>\n",
       "      <td>51566</td>\n",
       "      <td>200 E OAK ST\\nRED OAK 51566\\n(41.016691, -95.2...</td>\n",
       "      <td>69.0</td>\n",
       "      <td>Montgomery</td>\n",
       "      <td>1031200</td>\n",
       "      <td>VODKA FLAVORED</td>\n",
       "      <td>380</td>\n",
       "      <td>Phillips Beverage Company</td>\n",
       "      <td>41693</td>\n",
       "      <td>Uv Blue (raspberry) Vodka</td>\n",
       "      <td>12</td>\n",
       "      <td>750</td>\n",
       "      <td>$6.25</td>\n",
       "      <td>$9.49</td>\n",
       "      <td>12</td>\n",
       "      <td>$113.88</td>\n",
       "      <td>9.0</td>\n",
       "      <td>2.38</td>\n",
       "    </tr>\n",
       "    <tr>\n",
       "      <th>3</th>\n",
       "      <td>4</td>\n",
       "      <td>S27992700007</td>\n",
       "      <td>09/21/2015</td>\n",
       "      <td>4898</td>\n",
       "      <td>Burlington Shell</td>\n",
       "      <td>130, S ROOSEVELT AVE</td>\n",
       "      <td>BURLINGTON</td>\n",
       "      <td>52601</td>\n",
       "      <td>130, S ROOSEVELT AVE\\nBURLINGTON 52601\\n(40.80...</td>\n",
       "      <td>29.0</td>\n",
       "      <td>Des Moines</td>\n",
       "      <td>1031080</td>\n",
       "      <td>VODKA 80 PROOF</td>\n",
       "      <td>260</td>\n",
       "      <td>Diageo Americas</td>\n",
       "      <td>37993</td>\n",
       "      <td>Smirnoff Vodka 80 Prf</td>\n",
       "      <td>48</td>\n",
       "      <td>200</td>\n",
       "      <td>$2.75</td>\n",
       "      <td>$4.13</td>\n",
       "      <td>10</td>\n",
       "      <td>$41.30</td>\n",
       "      <td>2.0</td>\n",
       "      <td>0.53</td>\n",
       "    </tr>\n",
       "    <tr>\n",
       "      <th>4</th>\n",
       "      <td>5</td>\n",
       "      <td>S11403900036</td>\n",
       "      <td>04/02/2013</td>\n",
       "      <td>3858</td>\n",
       "      <td>Harolds Jack N Jill / Davenport</td>\n",
       "      <td>6723 NW BLVD UNIT 2</td>\n",
       "      <td>DAVENPORT</td>\n",
       "      <td>52806</td>\n",
       "      <td>6723 NW BLVD UNIT 2\\nDAVENPORT 52806\\n</td>\n",
       "      <td>82.0</td>\n",
       "      <td>Scott</td>\n",
       "      <td>1031200</td>\n",
       "      <td>VODKA FLAVORED</td>\n",
       "      <td>380</td>\n",
       "      <td>Phillips Beverage Company</td>\n",
       "      <td>40390</td>\n",
       "      <td>UV Candy Bar Mini</td>\n",
       "      <td>6</td>\n",
       "      <td>500</td>\n",
       "      <td>$29.30</td>\n",
       "      <td>$43.95</td>\n",
       "      <td>1</td>\n",
       "      <td>$43.95</td>\n",
       "      <td>0.5</td>\n",
       "      <td>0.13</td>\n",
       "    </tr>\n",
       "  </tbody>\n",
       "</table>\n",
       "</div>"
      ],
      "text/plain": [
       "   Unnamed: 0 Invoice/Item Number        Date  Store Number  \\\n",
       "0           1        S13206600042  07/08/2013          3908   \n",
       "1           2        S29065400007  11/16/2015          2555   \n",
       "2           3        S08372100023  10/16/2012          3816   \n",
       "3           4        S27992700007  09/21/2015          4898   \n",
       "4           5        S11403900036  04/02/2013          3858   \n",
       "\n",
       "                          Store Name               Address          City  \\\n",
       "0  County Market #214 / Fort Madison        11802 AVENUE H  FORT MADISON   \n",
       "1         Hy-Vee Food Store / Keokuk             3111 MAIN        KEOKUK   \n",
       "2                              Swils          200 E OAK ST       RED OAK   \n",
       "3                   Burlington Shell  130, S ROOSEVELT AVE    BURLINGTON   \n",
       "4    Harolds Jack N Jill / Davenport   6723 NW BLVD UNIT 2     DAVENPORT   \n",
       "\n",
       "  Zip Code                                     Store Location  County Number  \\\n",
       "0    52627               11802 AVENUE H\\nFORT MADISON 52627\\n           56.0   \n",
       "1    52632   3111 MAIN\\nKEOKUK 52632\\n(40.414975, -91.403338)           56.0   \n",
       "2    51566  200 E OAK ST\\nRED OAK 51566\\n(41.016691, -95.2...           69.0   \n",
       "3    52601  130, S ROOSEVELT AVE\\nBURLINGTON 52601\\n(40.80...           29.0   \n",
       "4    52806             6723 NW BLVD UNIT 2\\nDAVENPORT 52806\\n           82.0   \n",
       "\n",
       "       County  Category   Category Name  Vendor Number  \\\n",
       "0         Lee   1031200  VODKA FLAVORED            380   \n",
       "1         Lee   1031080  VODKA 80 PROOF            260   \n",
       "2  Montgomery   1031200  VODKA FLAVORED            380   \n",
       "3  Des Moines   1031080  VODKA 80 PROOF            260   \n",
       "4       Scott   1031200  VODKA FLAVORED            380   \n",
       "\n",
       "                 Vendor Name  Item Number           Item Description  Pack  \\\n",
       "0  Phillips Beverage Company        41694  Uv Blue (raspberry) Vodka    12   \n",
       "1            Diageo Americas        37996      Smirnoff Vodka 80 Prf    12   \n",
       "2  Phillips Beverage Company        41693  Uv Blue (raspberry) Vodka    12   \n",
       "3            Diageo Americas        37993      Smirnoff Vodka 80 Prf    48   \n",
       "4  Phillips Beverage Company        40390          UV Candy Bar Mini     6   \n",
       "\n",
       "   Bottle Volume (ml) State Bottle Cost State Bottle Retail  Bottles Sold  \\\n",
       "0                1000             $7.50              $11.25            12   \n",
       "1                 750             $8.25              $12.38            12   \n",
       "2                 750             $6.25               $9.49            12   \n",
       "3                 200             $2.75               $4.13            10   \n",
       "4                 500            $29.30              $43.95             1   \n",
       "\n",
       "  Sale (Dollars)  Volume Sold (Liters)  Volume Sold (Gallons)  \n",
       "0        $135.00                  12.0                   3.17  \n",
       "1        $148.56                   9.0                   2.38  \n",
       "2        $113.88                   9.0                   2.38  \n",
       "3         $41.30                   2.0                   0.53  \n",
       "4         $43.95                   0.5                   0.13  "
      ]
     },
     "execution_count": 4,
     "metadata": {},
     "output_type": "execute_result"
    }
   ],
   "source": [
    "vodka.head()"
   ]
  },
  {
   "cell_type": "markdown",
   "metadata": {},
   "source": [
    "## Check Last 5 rows"
   ]
  },
  {
   "cell_type": "code",
   "execution_count": 5,
   "metadata": {},
   "outputs": [
    {
     "data": {
      "text/html": [
       "<div>\n",
       "<style scoped>\n",
       "    .dataframe tbody tr th:only-of-type {\n",
       "        vertical-align: middle;\n",
       "    }\n",
       "\n",
       "    .dataframe tbody tr th {\n",
       "        vertical-align: top;\n",
       "    }\n",
       "\n",
       "    .dataframe thead th {\n",
       "        text-align: right;\n",
       "    }\n",
       "</style>\n",
       "<table border=\"1\" class=\"dataframe\">\n",
       "  <thead>\n",
       "    <tr style=\"text-align: right;\">\n",
       "      <th></th>\n",
       "      <th>Unnamed: 0</th>\n",
       "      <th>Invoice/Item Number</th>\n",
       "      <th>Date</th>\n",
       "      <th>Store Number</th>\n",
       "      <th>Store Name</th>\n",
       "      <th>Address</th>\n",
       "      <th>City</th>\n",
       "      <th>Zip Code</th>\n",
       "      <th>Store Location</th>\n",
       "      <th>County Number</th>\n",
       "      <th>County</th>\n",
       "      <th>Category</th>\n",
       "      <th>Category Name</th>\n",
       "      <th>Vendor Number</th>\n",
       "      <th>Vendor Name</th>\n",
       "      <th>Item Number</th>\n",
       "      <th>Item Description</th>\n",
       "      <th>Pack</th>\n",
       "      <th>Bottle Volume (ml)</th>\n",
       "      <th>State Bottle Cost</th>\n",
       "      <th>State Bottle Retail</th>\n",
       "      <th>Bottles Sold</th>\n",
       "      <th>Sale (Dollars)</th>\n",
       "      <th>Volume Sold (Liters)</th>\n",
       "      <th>Volume Sold (Gallons)</th>\n",
       "    </tr>\n",
       "  </thead>\n",
       "  <tbody>\n",
       "    <tr>\n",
       "      <th>2533172</th>\n",
       "      <td>2533173</td>\n",
       "      <td>S34159000024</td>\n",
       "      <td>08/26/2016</td>\n",
       "      <td>2445</td>\n",
       "      <td>Ruback's Food Center</td>\n",
       "      <td>504 South Highway</td>\n",
       "      <td>Oakland</td>\n",
       "      <td>51560</td>\n",
       "      <td>504 South Highway\\nOakland 51560\\n(41.301436, ...</td>\n",
       "      <td>78.0</td>\n",
       "      <td>Pottawattamie</td>\n",
       "      <td>1031080</td>\n",
       "      <td>VODKA 80 PROOF</td>\n",
       "      <td>297</td>\n",
       "      <td>Laird And Company</td>\n",
       "      <td>35917</td>\n",
       "      <td>Five O'clock Vodka</td>\n",
       "      <td>12</td>\n",
       "      <td>1000</td>\n",
       "      <td>$4.17</td>\n",
       "      <td>$6.26</td>\n",
       "      <td>2</td>\n",
       "      <td>$12.52</td>\n",
       "      <td>2.0</td>\n",
       "      <td>0.53</td>\n",
       "    </tr>\n",
       "    <tr>\n",
       "      <th>2533173</th>\n",
       "      <td>2533174</td>\n",
       "      <td>S34159000025</td>\n",
       "      <td>08/26/2016</td>\n",
       "      <td>2445</td>\n",
       "      <td>Ruback's Food Center</td>\n",
       "      <td>504 South Highway</td>\n",
       "      <td>Oakland</td>\n",
       "      <td>51560</td>\n",
       "      <td>504 South Highway\\nOakland 51560\\n(41.301436, ...</td>\n",
       "      <td>78.0</td>\n",
       "      <td>Pottawattamie</td>\n",
       "      <td>1031080</td>\n",
       "      <td>VODKA 80 PROOF</td>\n",
       "      <td>55</td>\n",
       "      <td>Sazerac North America</td>\n",
       "      <td>37937</td>\n",
       "      <td>Skol Vodka</td>\n",
       "      <td>12</td>\n",
       "      <td>1000</td>\n",
       "      <td>$4.42</td>\n",
       "      <td>$6.63</td>\n",
       "      <td>2</td>\n",
       "      <td>$13.26</td>\n",
       "      <td>2.0</td>\n",
       "      <td>0.53</td>\n",
       "    </tr>\n",
       "    <tr>\n",
       "      <th>2533174</th>\n",
       "      <td>2533175</td>\n",
       "      <td>S34159500004</td>\n",
       "      <td>08/26/2016</td>\n",
       "      <td>2626</td>\n",
       "      <td>Hy-Vee Drugstore / University / DSM</td>\n",
       "      <td>4100 University Ave</td>\n",
       "      <td>Des Moines</td>\n",
       "      <td>50311</td>\n",
       "      <td>4100 University Ave\\nDes Moines 50311\\n(41.600...</td>\n",
       "      <td>77.0</td>\n",
       "      <td>Polk</td>\n",
       "      <td>1031080</td>\n",
       "      <td>VODKA 80 PROOF</td>\n",
       "      <td>380</td>\n",
       "      <td>Phillips Beverage Company</td>\n",
       "      <td>37348</td>\n",
       "      <td>Phillips Vodka</td>\n",
       "      <td>6</td>\n",
       "      <td>1750</td>\n",
       "      <td>$7.60</td>\n",
       "      <td>$11.40</td>\n",
       "      <td>12</td>\n",
       "      <td>$136.80</td>\n",
       "      <td>21.0</td>\n",
       "      <td>5.55</td>\n",
       "    </tr>\n",
       "    <tr>\n",
       "      <th>2533175</th>\n",
       "      <td>2533176</td>\n",
       "      <td>S34159500005</td>\n",
       "      <td>08/26/2016</td>\n",
       "      <td>2626</td>\n",
       "      <td>Hy-Vee Drugstore / University / DSM</td>\n",
       "      <td>4100 University Ave</td>\n",
       "      <td>Des Moines</td>\n",
       "      <td>50311</td>\n",
       "      <td>4100 University Ave\\nDes Moines 50311\\n(41.600...</td>\n",
       "      <td>77.0</td>\n",
       "      <td>Polk</td>\n",
       "      <td>1032080</td>\n",
       "      <td>IMPORTED VODKA</td>\n",
       "      <td>65</td>\n",
       "      <td>Jim Beam Brands</td>\n",
       "      <td>34578</td>\n",
       "      <td>Pinnacle Vodka</td>\n",
       "      <td>6</td>\n",
       "      <td>1750</td>\n",
       "      <td>$12.59</td>\n",
       "      <td>$18.89</td>\n",
       "      <td>6</td>\n",
       "      <td>$113.34</td>\n",
       "      <td>10.5</td>\n",
       "      <td>2.77</td>\n",
       "    </tr>\n",
       "    <tr>\n",
       "      <th>2533176</th>\n",
       "      <td>2533177</td>\n",
       "      <td>S34159500009</td>\n",
       "      <td>08/26/2016</td>\n",
       "      <td>2626</td>\n",
       "      <td>Hy-Vee Drugstore / University / DSM</td>\n",
       "      <td>4100 University Ave</td>\n",
       "      <td>Des Moines</td>\n",
       "      <td>50311</td>\n",
       "      <td>4100 University Ave\\nDes Moines 50311\\n(41.600...</td>\n",
       "      <td>77.0</td>\n",
       "      <td>Polk</td>\n",
       "      <td>1031080</td>\n",
       "      <td>VODKA 80 PROOF</td>\n",
       "      <td>229</td>\n",
       "      <td>Dehner Distillery</td>\n",
       "      <td>36447</td>\n",
       "      <td>Ingenioz</td>\n",
       "      <td>12</td>\n",
       "      <td>750</td>\n",
       "      <td>$12.54</td>\n",
       "      <td>$18.81</td>\n",
       "      <td>2</td>\n",
       "      <td>$37.62</td>\n",
       "      <td>1.5</td>\n",
       "      <td>0.40</td>\n",
       "    </tr>\n",
       "  </tbody>\n",
       "</table>\n",
       "</div>"
      ],
      "text/plain": [
       "         Unnamed: 0 Invoice/Item Number        Date  Store Number  \\\n",
       "2533172     2533173        S34159000024  08/26/2016          2445   \n",
       "2533173     2533174        S34159000025  08/26/2016          2445   \n",
       "2533174     2533175        S34159500004  08/26/2016          2626   \n",
       "2533175     2533176        S34159500005  08/26/2016          2626   \n",
       "2533176     2533177        S34159500009  08/26/2016          2626   \n",
       "\n",
       "                                  Store Name              Address        City  \\\n",
       "2533172                 Ruback's Food Center    504 South Highway     Oakland   \n",
       "2533173                 Ruback's Food Center    504 South Highway     Oakland   \n",
       "2533174  Hy-Vee Drugstore / University / DSM  4100 University Ave  Des Moines   \n",
       "2533175  Hy-Vee Drugstore / University / DSM  4100 University Ave  Des Moines   \n",
       "2533176  Hy-Vee Drugstore / University / DSM  4100 University Ave  Des Moines   \n",
       "\n",
       "        Zip Code                                     Store Location  \\\n",
       "2533172    51560  504 South Highway\\nOakland 51560\\n(41.301436, ...   \n",
       "2533173    51560  504 South Highway\\nOakland 51560\\n(41.301436, ...   \n",
       "2533174    50311  4100 University Ave\\nDes Moines 50311\\n(41.600...   \n",
       "2533175    50311  4100 University Ave\\nDes Moines 50311\\n(41.600...   \n",
       "2533176    50311  4100 University Ave\\nDes Moines 50311\\n(41.600...   \n",
       "\n",
       "         County Number         County  Category   Category Name  \\\n",
       "2533172           78.0  Pottawattamie   1031080  VODKA 80 PROOF   \n",
       "2533173           78.0  Pottawattamie   1031080  VODKA 80 PROOF   \n",
       "2533174           77.0           Polk   1031080  VODKA 80 PROOF   \n",
       "2533175           77.0           Polk   1032080  IMPORTED VODKA   \n",
       "2533176           77.0           Polk   1031080  VODKA 80 PROOF   \n",
       "\n",
       "         Vendor Number                Vendor Name  Item Number  \\\n",
       "2533172            297          Laird And Company        35917   \n",
       "2533173             55      Sazerac North America        37937   \n",
       "2533174            380  Phillips Beverage Company        37348   \n",
       "2533175             65            Jim Beam Brands        34578   \n",
       "2533176            229          Dehner Distillery        36447   \n",
       "\n",
       "           Item Description  Pack  Bottle Volume (ml) State Bottle Cost  \\\n",
       "2533172  Five O'clock Vodka    12                1000             $4.17   \n",
       "2533173          Skol Vodka    12                1000             $4.42   \n",
       "2533174      Phillips Vodka     6                1750             $7.60   \n",
       "2533175      Pinnacle Vodka     6                1750            $12.59   \n",
       "2533176            Ingenioz    12                 750            $12.54   \n",
       "\n",
       "        State Bottle Retail  Bottles Sold Sale (Dollars)  \\\n",
       "2533172               $6.26             2         $12.52   \n",
       "2533173               $6.63             2         $13.26   \n",
       "2533174              $11.40            12        $136.80   \n",
       "2533175              $18.89             6        $113.34   \n",
       "2533176              $18.81             2         $37.62   \n",
       "\n",
       "         Volume Sold (Liters)  Volume Sold (Gallons)  \n",
       "2533172                   2.0                   0.53  \n",
       "2533173                   2.0                   0.53  \n",
       "2533174                  21.0                   5.55  \n",
       "2533175                  10.5                   2.77  \n",
       "2533176                   1.5                   0.40  "
      ]
     },
     "execution_count": 5,
     "metadata": {},
     "output_type": "execute_result"
    }
   ],
   "source": [
    "vodka.tail()"
   ]
  },
  {
   "cell_type": "markdown",
   "metadata": {},
   "source": [
    "## Check number of rows"
   ]
  },
  {
   "cell_type": "code",
   "execution_count": 6,
   "metadata": {},
   "outputs": [
    {
     "data": {
      "text/plain": [
       "(2533177, 25)"
      ]
     },
     "execution_count": 6,
     "metadata": {},
     "output_type": "execute_result"
    }
   ],
   "source": [
    "vodka.shape"
   ]
  },
  {
   "cell_type": "markdown",
   "metadata": {},
   "source": [
    "## Check number of columns"
   ]
  },
  {
   "cell_type": "code",
   "execution_count": 7,
   "metadata": {},
   "outputs": [
    {
     "data": {
      "text/plain": [
       "Index(['Unnamed: 0', 'Invoice/Item Number', 'Date', 'Store Number',\n",
       "       'Store Name', 'Address', 'City', 'Zip Code', 'Store Location',\n",
       "       'County Number', 'County', 'Category', 'Category Name', 'Vendor Number',\n",
       "       'Vendor Name', 'Item Number', 'Item Description', 'Pack',\n",
       "       'Bottle Volume (ml)', 'State Bottle Cost', 'State Bottle Retail',\n",
       "       'Bottles Sold', 'Sale (Dollars)', 'Volume Sold (Liters)',\n",
       "       'Volume Sold (Gallons)'],\n",
       "      dtype='object')"
      ]
     },
     "execution_count": 7,
     "metadata": {},
     "output_type": "execute_result"
    }
   ],
   "source": [
    "vodka.columns"
   ]
  },
  {
   "cell_type": "markdown",
   "metadata": {},
   "source": [
    "## Check data types of columns"
   ]
  },
  {
   "cell_type": "code",
   "execution_count": 8,
   "metadata": {},
   "outputs": [
    {
     "name": "stdout",
     "output_type": "stream",
     "text": [
      "<class 'pandas.core.frame.DataFrame'>\n",
      "RangeIndex: 2533177 entries, 0 to 2533176\n",
      "Data columns (total 25 columns):\n",
      " #   Column                 Dtype  \n",
      "---  ------                 -----  \n",
      " 0   Unnamed: 0             int64  \n",
      " 1   Invoice/Item Number    object \n",
      " 2   Date                   object \n",
      " 3   Store Number           int64  \n",
      " 4   Store Name             object \n",
      " 5   Address                object \n",
      " 6   City                   object \n",
      " 7   Zip Code               object \n",
      " 8   Store Location         object \n",
      " 9   County Number          float64\n",
      " 10  County                 object \n",
      " 11  Category               int64  \n",
      " 12  Category Name          object \n",
      " 13  Vendor Number          int64  \n",
      " 14  Vendor Name            object \n",
      " 15  Item Number            int64  \n",
      " 16  Item Description       object \n",
      " 17  Pack                   int64  \n",
      " 18  Bottle Volume (ml)     int64  \n",
      " 19  State Bottle Cost      object \n",
      " 20  State Bottle Retail    object \n",
      " 21  Bottles Sold           int64  \n",
      " 22  Sale (Dollars)         object \n",
      " 23  Volume Sold (Liters)   float64\n",
      " 24  Volume Sold (Gallons)  float64\n",
      "dtypes: float64(3), int64(8), object(14)\n",
      "memory usage: 483.2+ MB\n"
     ]
    }
   ],
   "source": [
    "vodka.info()"
   ]
  },
  {
   "cell_type": "markdown",
   "metadata": {},
   "source": [
    "## Checked for Rows containing duplicate data"
   ]
  },
  {
   "cell_type": "code",
   "execution_count": 9,
   "metadata": {},
   "outputs": [
    {
     "name": "stdout",
     "output_type": "stream",
     "text": [
      "duplicate rows:  (0, 25)\n"
     ]
    }
   ],
   "source": [
    "duplicate_rows_df = vodka[vodka.duplicated()]\n",
    "print(\"duplicate rows: \", duplicate_rows_df.shape)"
   ]
  },
  {
   "cell_type": "markdown",
   "metadata": {},
   "source": [
    "## Check for values count for each column"
   ]
  },
  {
   "cell_type": "code",
   "execution_count": 10,
   "metadata": {},
   "outputs": [
    {
     "data": {
      "text/plain": [
       "Unnamed: 0               2533177\n",
       "Invoice/Item Number      2533177\n",
       "Date                     2533177\n",
       "Store Number             2533177\n",
       "Store Name               2533177\n",
       "Address                  2533177\n",
       "City                     2533177\n",
       "Zip Code                 2533166\n",
       "Store Location           2533177\n",
       "County Number            2513585\n",
       "County                   2513585\n",
       "Category                 2533177\n",
       "Category Name            2533177\n",
       "Vendor Number            2533177\n",
       "Vendor Name              2533177\n",
       "Item Number              2533177\n",
       "Item Description         2533177\n",
       "Pack                     2533177\n",
       "Bottle Volume (ml)       2533177\n",
       "State Bottle Cost        2533167\n",
       "State Bottle Retail      2533167\n",
       "Bottles Sold             2533177\n",
       "Sale (Dollars)           2533167\n",
       "Volume Sold (Liters)     2533177\n",
       "Volume Sold (Gallons)    2533177\n",
       "dtype: int64"
      ]
     },
     "execution_count": 10,
     "metadata": {},
     "output_type": "execute_result"
    }
   ],
   "source": [
    "vodka.count()"
   ]
  },
  {
   "cell_type": "markdown",
   "metadata": {},
   "source": [
    "## Dropping unnecessary columns\n"
   ]
  },
  {
   "cell_type": "code",
   "execution_count": 11,
   "metadata": {},
   "outputs": [],
   "source": [
    "vodka.drop(['Unnamed: 0','Address','Store Location','Vendor Number','County Number','Category','Item Number'], axis=1, inplace=True)"
   ]
  },
  {
   "cell_type": "markdown",
   "metadata": {},
   "source": [
    "## Removing space from column names"
   ]
  },
  {
   "cell_type": "code",
   "execution_count": 12,
   "metadata": {},
   "outputs": [],
   "source": [
    "vodka.columns = vodka.columns.str.replace(' ', '')"
   ]
  },
  {
   "cell_type": "markdown",
   "metadata": {},
   "source": [
    "## Check data types of columns"
   ]
  },
  {
   "cell_type": "code",
   "execution_count": 13,
   "metadata": {},
   "outputs": [
    {
     "name": "stdout",
     "output_type": "stream",
     "text": [
      "<class 'pandas.core.frame.DataFrame'>\n",
      "RangeIndex: 2533177 entries, 0 to 2533176\n",
      "Data columns (total 18 columns):\n",
      " #   Column               Dtype  \n",
      "---  ------               -----  \n",
      " 0   Invoice/ItemNumber   object \n",
      " 1   Date                 object \n",
      " 2   StoreNumber          int64  \n",
      " 3   StoreName            object \n",
      " 4   City                 object \n",
      " 5   ZipCode              object \n",
      " 6   County               object \n",
      " 7   CategoryName         object \n",
      " 8   VendorName           object \n",
      " 9   ItemDescription      object \n",
      " 10  Pack                 int64  \n",
      " 11  BottleVolume(ml)     int64  \n",
      " 12  StateBottleCost      object \n",
      " 13  StateBottleRetail    object \n",
      " 14  BottlesSold          int64  \n",
      " 15  Sale(Dollars)        object \n",
      " 16  VolumeSold(Liters)   float64\n",
      " 17  VolumeSold(Gallons)  float64\n",
      "dtypes: float64(2), int64(4), object(12)\n",
      "memory usage: 347.9+ MB\n"
     ]
    }
   ],
   "source": [
    "vodka.info()"
   ]
  },
  {
   "cell_type": "markdown",
   "metadata": {},
   "source": [
    "## Trim dollar symbol from Sales column"
   ]
  },
  {
   "cell_type": "code",
   "execution_count": 14,
   "metadata": {},
   "outputs": [],
   "source": [
    "vodka['Sale(Dollars)'] = vodka['Sale(Dollars)'].str.replace('$', '', regex=True)\n",
    "vodka['StateBottleCost'] = vodka['StateBottleCost'].str.replace('$', '', regex=True)\n",
    "vodka['StateBottleRetail'] = vodka['StateBottleRetail'].str.replace('$', '', regex=True)"
   ]
  },
  {
   "cell_type": "markdown",
   "metadata": {},
   "source": [
    "## Converting object to float"
   ]
  },
  {
   "cell_type": "code",
   "execution_count": 15,
   "metadata": {},
   "outputs": [],
   "source": [
    "vodka['Sale(Dollars)'] = vodka['Sale(Dollars)'].astype(float)\n",
    "\n",
    "vodka['StateBottleCost'] = vodka['StateBottleCost'].astype(float)\n",
    "\n",
    "vodka['StateBottleRetail'] = vodka['StateBottleRetail'].astype(float)"
   ]
  },
  {
   "cell_type": "markdown",
   "metadata": {},
   "source": [
    "## Check data types of columns after converting to float"
   ]
  },
  {
   "cell_type": "code",
   "execution_count": 16,
   "metadata": {},
   "outputs": [
    {
     "name": "stdout",
     "output_type": "stream",
     "text": [
      "<class 'pandas.core.frame.DataFrame'>\n",
      "RangeIndex: 2533177 entries, 0 to 2533176\n",
      "Data columns (total 18 columns):\n",
      " #   Column               Dtype  \n",
      "---  ------               -----  \n",
      " 0   Invoice/ItemNumber   object \n",
      " 1   Date                 object \n",
      " 2   StoreNumber          int64  \n",
      " 3   StoreName            object \n",
      " 4   City                 object \n",
      " 5   ZipCode              object \n",
      " 6   County               object \n",
      " 7   CategoryName         object \n",
      " 8   VendorName           object \n",
      " 9   ItemDescription      object \n",
      " 10  Pack                 int64  \n",
      " 11  BottleVolume(ml)     int64  \n",
      " 12  StateBottleCost      float64\n",
      " 13  StateBottleRetail    float64\n",
      " 14  BottlesSold          int64  \n",
      " 15  Sale(Dollars)        float64\n",
      " 16  VolumeSold(Liters)   float64\n",
      " 17  VolumeSold(Gallons)  float64\n",
      "dtypes: float64(5), int64(4), object(9)\n",
      "memory usage: 347.9+ MB\n"
     ]
    }
   ],
   "source": [
    "vodka.info()"
   ]
  },
  {
   "cell_type": "markdown",
   "metadata": {},
   "source": [
    "## Check for missing values"
   ]
  },
  {
   "cell_type": "code",
   "execution_count": 17,
   "metadata": {},
   "outputs": [
    {
     "data": {
      "text/plain": [
       "Invoice/ItemNumber         0\n",
       "Date                       0\n",
       "StoreNumber                0\n",
       "StoreName                  0\n",
       "City                       0\n",
       "ZipCode                   11\n",
       "County                 19592\n",
       "CategoryName               0\n",
       "VendorName                 0\n",
       "ItemDescription            0\n",
       "Pack                       0\n",
       "BottleVolume(ml)           0\n",
       "StateBottleCost           10\n",
       "StateBottleRetail         10\n",
       "BottlesSold                0\n",
       "Sale(Dollars)             10\n",
       "VolumeSold(Liters)         0\n",
       "VolumeSold(Gallons)        0\n",
       "dtype: int64"
      ]
     },
     "execution_count": 17,
     "metadata": {},
     "output_type": "execute_result"
    }
   ],
   "source": [
    "vodka.isnull().sum()"
   ]
  },
  {
   "cell_type": "markdown",
   "metadata": {},
   "source": [
    "## Removing records with State Bottle Cost as null"
   ]
  },
  {
   "cell_type": "code",
   "execution_count": 18,
   "metadata": {},
   "outputs": [],
   "source": [
    "vodka = vodka[vodka['StateBottleCost'].notnull()]"
   ]
  },
  {
   "cell_type": "markdown",
   "metadata": {},
   "source": [
    "## Removing records with Zip code as null"
   ]
  },
  {
   "cell_type": "code",
   "execution_count": 19,
   "metadata": {},
   "outputs": [],
   "source": [
    "vodka = vodka[vodka['ZipCode'].notnull()]"
   ]
  },
  {
   "cell_type": "markdown",
   "metadata": {},
   "source": [
    "## Checked frequency distribution of categorical columns\n"
   ]
  },
  {
   "cell_type": "code",
   "execution_count": 20,
   "metadata": {},
   "outputs": [
    {
     "name": "stdout",
     "output_type": "stream",
     "text": [
      "Polk             517970\n",
      "Linn             228316\n",
      "Scott            170534\n",
      "Black Hawk       139670\n",
      "Johnson          139497\n",
      "Story             83135\n",
      "Pottawattamie     78033\n",
      "Dubuque           77418\n",
      "Woodbury          71301\n",
      "Cerro Gordo       56995\n",
      "Des Moines        40171\n",
      "Muscatine         33106\n",
      "Clinton           31703\n",
      "Dickinson         31176\n",
      "Webster           29993\n",
      "Name: County, dtype: int64\n",
      "-------------------------------------------------------------------\n",
      "DES MOINES         237609\n",
      "CEDAR RAPIDS       166926\n",
      "DAVENPORT          114079\n",
      "IOWA CITY           83221\n",
      "WATERLOO            75177\n",
      "WEST DES MOINES     71321\n",
      "AMES                64638\n",
      "DUBUQUE             64119\n",
      "COUNCIL BLUFFS      64116\n",
      "SIOUX CITY          61691\n",
      "CEDAR FALLS         45410\n",
      "ANKENY              40452\n",
      "BETTENDORF          33884\n",
      "MASON CITY          33665\n",
      "CORALVILLE          32700\n",
      "Name: City, dtype: int64\n",
      "-------------------------------------------------------------------\n",
      "VODKA 80 PROOF             1265959\n",
      "VODKA FLAVORED              502811\n",
      "IMPORTED VODKA              404047\n",
      "IMPORTED VODKA - MISC       256238\n",
      "100 PROOF VODKA              99124\n",
      "OTHER PROOF VODKA             3398\n",
      "LOW PROOF VODKA               1565\n",
      "IMPORTED VODKA - CHERRY         14\n",
      "Name: CategoryName, dtype: int64\n",
      "-------------------------------------------------------------------\n",
      "Diageo Americas                     512588\n",
      "Phillips Beverage Company           345002\n",
      "Luxco-St Louis                      292186\n",
      "Pernod Ricard USA/Austin Nichols    220232\n",
      "Laird And Company                   204766\n",
      "Mccormick Distilling Company        160887\n",
      "Sazerac North America               150990\n",
      "Bacardi U.S.A., Inc.                101059\n",
      "E AND J GALLO WINERY                 76189\n",
      "Heaven Hill Brands                   67129\n",
      "Constellation Wine Company, Inc.     63755\n",
      "Jim Beam Brands                      59731\n",
      "Sazerac Co., Inc.                    48224\n",
      "Fifth Generation Inc.                47174\n",
      "Proximo                              42138\n",
      "Name: VendorName, dtype: int64\n",
      "-------------------------------------------------------------------\n",
      "Hawkeye Vodka                   235791\n",
      "Five O'clock Vodka              175189\n",
      "Smirnoff Vodka 80 Prf           122172\n",
      "Absolut Swedish Vodka 80 Prf    109419\n",
      "Grey Goose Vodka                 88383\n",
      "Uv Blue (raspberry) Vodka        82743\n",
      "Mccormick Vodka Pet              82520\n",
      "Barton Vodka                     63021\n",
      "Phillips Vodka                   62611\n",
      "Skol Vodka                       46706\n",
      "Mccormick Vodka                  46465\n",
      "Popov Vodka 80 Prf               44517\n",
      "Svedka Vodka                     41032\n",
      "Nikolai Vodka                    38388\n",
      "New Amsterdam Vodka              37132\n",
      "Name: ItemDescription, dtype: int64\n",
      "-------------------------------------------------------------------\n",
      "Hy-Vee #3 / BDI / Des Moines            22360\n",
      "Hy-Vee Wine and Spirits / Iowa City     19800\n",
      "Central City 2                          19646\n",
      "Central City Liquor, Inc.               18852\n",
      "Hy-Vee #3 Food and Drugstore            15391\n",
      "Hy-vee  #2 / Ames                       14512\n",
      "Hy-Vee Food Store #5 / Cedar Rapids     13294\n",
      "Hy-Vee #4 / WDM                         13050\n",
      "Hy-Vee Food Store / Johnston            12902\n",
      "Hy-Vee Wine and Spirits / Bettendorf    12789\n",
      "Hy-Vee Food Store #1 / Ames             12216\n",
      "Hy-Vee #7 / Cedar Rapids                11957\n",
      "Hy-Vee #1044 / Burlington               11849\n",
      "Hy-Vee Food Store #1 / Mason City       11832\n",
      "Hy-Vee Wine and Spirits / WDM           11828\n",
      "Name: StoreName, dtype: int64\n",
      "-------------------------------------------------------------------\n",
      "52240    71645\n",
      "52402    71596\n",
      "50010    62941\n",
      "50317    50559\n",
      "50314    49374\n",
      "50265    47314\n",
      "50613    47159\n",
      "52001    46173\n",
      "52404    41925\n",
      "51501    40879\n",
      "52807    39042\n",
      "50401    36842\n",
      "52722    36795\n",
      "52241    35805\n",
      "50315    34835\n",
      "Name: ZipCode, dtype: int64\n",
      "-------------------------------------------------------------------\n"
     ]
    }
   ],
   "source": [
    "col_names=['County','City','CategoryName','VendorName','ItemDescription','StoreName', 'ZipCode'] \n",
    "for col in col_names:\n",
    "    print(vodka[col].value_counts()[:15])\n",
    "    print(\"-------------------------------------------------------------------\")"
   ]
  },
  {
   "cell_type": "markdown",
   "metadata": {},
   "source": [
    "## 19592 missing values in the County column"
   ]
  },
  {
   "cell_type": "markdown",
   "metadata": {},
   "source": [
    "## Taking the 3 columns city, zipcode and County"
   ]
  },
  {
   "cell_type": "code",
   "execution_count": 21,
   "metadata": {},
   "outputs": [
    {
     "data": {
      "text/plain": [
       "2533156"
      ]
     },
     "execution_count": 21,
     "metadata": {},
     "output_type": "execute_result"
    }
   ],
   "source": [
    "county_dataset= vodka[[\"Invoice/ItemNumber\",\"City\",\"County\"]]\n",
    "county_dataset.shape[0]"
   ]
  },
  {
   "cell_type": "markdown",
   "metadata": {},
   "source": [
    "## Creating a reference set from county_dataset where county is not null"
   ]
  },
  {
   "cell_type": "code",
   "execution_count": 22,
   "metadata": {},
   "outputs": [
    {
     "data": {
      "text/plain": [
       "2513575"
      ]
     },
     "execution_count": 22,
     "metadata": {},
     "output_type": "execute_result"
    }
   ],
   "source": [
    "Reference_set = county_dataset[county_dataset['County'].notna()]\n",
    "count_row = Reference_set.shape[0]\n",
    "count_row"
   ]
  },
  {
   "cell_type": "markdown",
   "metadata": {},
   "source": [
    "## Creating a dictionary to map city and county from the Reference_set dataset "
   ]
  },
  {
   "cell_type": "code",
   "execution_count": 23,
   "metadata": {},
   "outputs": [],
   "source": [
    "lookup_dictionary=pd.Series(Reference_set.County.values,index=Reference_set.City).to_dict()"
   ]
  },
  {
   "cell_type": "markdown",
   "metadata": {},
   "source": [
    "## Getting the missing county rows from county_dataset"
   ]
  },
  {
   "cell_type": "code",
   "execution_count": 24,
   "metadata": {},
   "outputs": [
    {
     "data": {
      "text/plain": [
       "19581"
      ]
     },
     "execution_count": 24,
     "metadata": {},
     "output_type": "execute_result"
    }
   ],
   "source": [
    "Missing_county_set = county_dataset[county_dataset['County'].isnull()]\n",
    "count_row = Missing_county_set.shape[0]\n",
    "count_row"
   ]
  },
  {
   "cell_type": "markdown",
   "metadata": {},
   "source": [
    "## Mapping city to county from lookup_dictionary"
   ]
  },
  {
   "cell_type": "code",
   "execution_count": 25,
   "metadata": {},
   "outputs": [],
   "source": [
    "New_County=[]\n",
    "temp=list(Missing_county_set['City'].values)\n",
    "for i in temp:\n",
    "    if i in lookup_dictionary:\n",
    "        New_County.append(lookup_dictionary[i])\n",
    "    else:\n",
    "        New_County.append(np.nan)"
   ]
  },
  {
   "cell_type": "markdown",
   "metadata": {},
   "source": [
    "## Adding the column New_County to the dataset"
   ]
  },
  {
   "cell_type": "code",
   "execution_count": null,
   "metadata": {},
   "outputs": [],
   "source": [
    "Missing_county_set['New_County']=New_County"
   ]
  },
  {
   "cell_type": "markdown",
   "metadata": {},
   "source": [
    "## Dropping old County column"
   ]
  },
  {
   "cell_type": "code",
   "execution_count": null,
   "metadata": {},
   "outputs": [],
   "source": [
    "Missing_county_set.drop(['County'], axis=1, inplace= True)"
   ]
  },
  {
   "cell_type": "markdown",
   "metadata": {},
   "source": [
    "## Renaming the New_County to County"
   ]
  },
  {
   "cell_type": "code",
   "execution_count": null,
   "metadata": {},
   "outputs": [],
   "source": [
    "Missing_county_set.rename(columns={'New_County':'County'}, inplace=True)"
   ]
  },
  {
   "cell_type": "markdown",
   "metadata": {},
   "source": [
    "## Checking for missing values again the County column"
   ]
  },
  {
   "cell_type": "code",
   "execution_count": 29,
   "metadata": {},
   "outputs": [
    {
     "data": {
      "text/plain": [
       "Invoice/ItemNumber      0\n",
       "City                    0\n",
       "County                858\n",
       "dtype: int64"
      ]
     },
     "execution_count": 29,
     "metadata": {},
     "output_type": "execute_result"
    }
   ],
   "source": [
    "Missing_county_set.isnull().sum()"
   ]
  },
  {
   "cell_type": "markdown",
   "metadata": {},
   "source": [
    "## Combining the Reference_set and Missing_county_set to a temp dataset"
   ]
  },
  {
   "cell_type": "code",
   "execution_count": 30,
   "metadata": {},
   "outputs": [],
   "source": [
    "temp=pd.concat([Reference_set, Missing_county_set])"
   ]
  },
  {
   "cell_type": "markdown",
   "metadata": {},
   "source": [
    "## Delete county from the main data frame."
   ]
  },
  {
   "cell_type": "code",
   "execution_count": 31,
   "metadata": {},
   "outputs": [],
   "source": [
    "vodka.drop(['County'], axis=1, inplace= True)"
   ]
  },
  {
   "cell_type": "code",
   "execution_count": 32,
   "metadata": {},
   "outputs": [],
   "source": [
    "out = (vodka.merge(temp, left_on='Invoice/ItemNumber', right_on='Invoice/ItemNumber'))"
   ]
  },
  {
   "cell_type": "markdown",
   "metadata": {},
   "source": [
    "## Joining the temp dataset and the original dataset with Invoice Number"
   ]
  },
  {
   "cell_type": "code",
   "execution_count": 33,
   "metadata": {},
   "outputs": [
    {
     "data": {
      "text/plain": [
       "Index(['Invoice/ItemNumber', 'Date', 'StoreNumber', 'StoreName', 'City_x',\n",
       "       'ZipCode', 'CategoryName', 'VendorName', 'ItemDescription', 'Pack',\n",
       "       'BottleVolume(ml)', 'StateBottleCost', 'StateBottleRetail',\n",
       "       'BottlesSold', 'Sale(Dollars)', 'VolumeSold(Liters)',\n",
       "       'VolumeSold(Gallons)', 'City_y', 'County'],\n",
       "      dtype='object')"
      ]
     },
     "execution_count": 33,
     "metadata": {},
     "output_type": "execute_result"
    }
   ],
   "source": [
    "out.columns"
   ]
  },
  {
   "cell_type": "markdown",
   "metadata": {},
   "source": [
    "## Checking Missing values count"
   ]
  },
  {
   "cell_type": "code",
   "execution_count": 34,
   "metadata": {},
   "outputs": [
    {
     "data": {
      "text/plain": [
       "Invoice/ItemNumber       0\n",
       "Date                     0\n",
       "StoreNumber              0\n",
       "StoreName                0\n",
       "City_x                   0\n",
       "ZipCode                  0\n",
       "CategoryName             0\n",
       "VendorName               0\n",
       "ItemDescription          0\n",
       "Pack                     0\n",
       "BottleVolume(ml)         0\n",
       "StateBottleCost          0\n",
       "StateBottleRetail        0\n",
       "BottlesSold              0\n",
       "Sale(Dollars)            0\n",
       "VolumeSold(Liters)       0\n",
       "VolumeSold(Gallons)      0\n",
       "City_y                   0\n",
       "County                 858\n",
       "dtype: int64"
      ]
     },
     "execution_count": 34,
     "metadata": {},
     "output_type": "execute_result"
    }
   ],
   "source": [
    "out.isnull().sum()"
   ]
  },
  {
   "cell_type": "markdown",
   "metadata": {},
   "source": [
    "## Deleting the 858 records in which we still have null in the county\n",
    "## 2533177 - 858"
   ]
  },
  {
   "cell_type": "code",
   "execution_count": 35,
   "metadata": {},
   "outputs": [],
   "source": [
    "filtered_out = out[out['County'].notnull()]"
   ]
  },
  {
   "cell_type": "markdown",
   "metadata": {},
   "source": [
    "## Deleting the zero volume sold rows"
   ]
  },
  {
   "cell_type": "code",
   "execution_count": null,
   "metadata": {},
   "outputs": [],
   "source": [
    "index_names = filtered_out[ filtered_out['VolumeSold(Liters)'] == 0 ].index \n",
    "filtered_out.drop(index_names, inplace = True) "
   ]
  },
  {
   "cell_type": "markdown",
   "metadata": {},
   "source": [
    "## Creating the final dataset"
   ]
  },
  {
   "cell_type": "code",
   "execution_count": 37,
   "metadata": {},
   "outputs": [
    {
     "data": {
      "text/html": [
       "<div>\n",
       "<style scoped>\n",
       "    .dataframe tbody tr th:only-of-type {\n",
       "        vertical-align: middle;\n",
       "    }\n",
       "\n",
       "    .dataframe tbody tr th {\n",
       "        vertical-align: top;\n",
       "    }\n",
       "\n",
       "    .dataframe thead th {\n",
       "        text-align: right;\n",
       "    }\n",
       "</style>\n",
       "<table border=\"1\" class=\"dataframe\">\n",
       "  <thead>\n",
       "    <tr style=\"text-align: right;\">\n",
       "      <th></th>\n",
       "      <th>Invoice/ItemNumber</th>\n",
       "      <th>Date</th>\n",
       "      <th>StoreNumber</th>\n",
       "      <th>StoreName</th>\n",
       "      <th>City_x</th>\n",
       "      <th>ZipCode</th>\n",
       "      <th>CategoryName</th>\n",
       "      <th>VendorName</th>\n",
       "      <th>ItemDescription</th>\n",
       "      <th>Pack</th>\n",
       "      <th>BottleVolume(ml)</th>\n",
       "      <th>StateBottleCost</th>\n",
       "      <th>StateBottleRetail</th>\n",
       "      <th>BottlesSold</th>\n",
       "      <th>Sale(Dollars)</th>\n",
       "      <th>VolumeSold(Liters)</th>\n",
       "      <th>VolumeSold(Gallons)</th>\n",
       "      <th>City_y</th>\n",
       "      <th>County</th>\n",
       "    </tr>\n",
       "  </thead>\n",
       "  <tbody>\n",
       "    <tr>\n",
       "      <th>0</th>\n",
       "      <td>S13206600042</td>\n",
       "      <td>07/08/2013</td>\n",
       "      <td>3908</td>\n",
       "      <td>County Market #214 / Fort Madison</td>\n",
       "      <td>FORT MADISON</td>\n",
       "      <td>52627</td>\n",
       "      <td>VODKA FLAVORED</td>\n",
       "      <td>Phillips Beverage Company</td>\n",
       "      <td>Uv Blue (raspberry) Vodka</td>\n",
       "      <td>12</td>\n",
       "      <td>1000</td>\n",
       "      <td>7.50</td>\n",
       "      <td>11.25</td>\n",
       "      <td>12</td>\n",
       "      <td>135.00</td>\n",
       "      <td>12.0</td>\n",
       "      <td>3.17</td>\n",
       "      <td>FORT MADISON</td>\n",
       "      <td>Lee</td>\n",
       "    </tr>\n",
       "    <tr>\n",
       "      <th>1</th>\n",
       "      <td>S29065400007</td>\n",
       "      <td>11/16/2015</td>\n",
       "      <td>2555</td>\n",
       "      <td>Hy-Vee Food Store / Keokuk</td>\n",
       "      <td>KEOKUK</td>\n",
       "      <td>52632</td>\n",
       "      <td>VODKA 80 PROOF</td>\n",
       "      <td>Diageo Americas</td>\n",
       "      <td>Smirnoff Vodka 80 Prf</td>\n",
       "      <td>12</td>\n",
       "      <td>750</td>\n",
       "      <td>8.25</td>\n",
       "      <td>12.38</td>\n",
       "      <td>12</td>\n",
       "      <td>148.56</td>\n",
       "      <td>9.0</td>\n",
       "      <td>2.38</td>\n",
       "      <td>KEOKUK</td>\n",
       "      <td>Lee</td>\n",
       "    </tr>\n",
       "    <tr>\n",
       "      <th>2</th>\n",
       "      <td>S08372100023</td>\n",
       "      <td>10/16/2012</td>\n",
       "      <td>3816</td>\n",
       "      <td>Swils</td>\n",
       "      <td>RED OAK</td>\n",
       "      <td>51566</td>\n",
       "      <td>VODKA FLAVORED</td>\n",
       "      <td>Phillips Beverage Company</td>\n",
       "      <td>Uv Blue (raspberry) Vodka</td>\n",
       "      <td>12</td>\n",
       "      <td>750</td>\n",
       "      <td>6.25</td>\n",
       "      <td>9.49</td>\n",
       "      <td>12</td>\n",
       "      <td>113.88</td>\n",
       "      <td>9.0</td>\n",
       "      <td>2.38</td>\n",
       "      <td>RED OAK</td>\n",
       "      <td>Montgomery</td>\n",
       "    </tr>\n",
       "    <tr>\n",
       "      <th>3</th>\n",
       "      <td>S27992700007</td>\n",
       "      <td>09/21/2015</td>\n",
       "      <td>4898</td>\n",
       "      <td>Burlington Shell</td>\n",
       "      <td>BURLINGTON</td>\n",
       "      <td>52601</td>\n",
       "      <td>VODKA 80 PROOF</td>\n",
       "      <td>Diageo Americas</td>\n",
       "      <td>Smirnoff Vodka 80 Prf</td>\n",
       "      <td>48</td>\n",
       "      <td>200</td>\n",
       "      <td>2.75</td>\n",
       "      <td>4.13</td>\n",
       "      <td>10</td>\n",
       "      <td>41.30</td>\n",
       "      <td>2.0</td>\n",
       "      <td>0.53</td>\n",
       "      <td>BURLINGTON</td>\n",
       "      <td>Des Moines</td>\n",
       "    </tr>\n",
       "    <tr>\n",
       "      <th>4</th>\n",
       "      <td>S11403900036</td>\n",
       "      <td>04/02/2013</td>\n",
       "      <td>3858</td>\n",
       "      <td>Harolds Jack N Jill / Davenport</td>\n",
       "      <td>DAVENPORT</td>\n",
       "      <td>52806</td>\n",
       "      <td>VODKA FLAVORED</td>\n",
       "      <td>Phillips Beverage Company</td>\n",
       "      <td>UV Candy Bar Mini</td>\n",
       "      <td>6</td>\n",
       "      <td>500</td>\n",
       "      <td>29.30</td>\n",
       "      <td>43.95</td>\n",
       "      <td>1</td>\n",
       "      <td>43.95</td>\n",
       "      <td>0.5</td>\n",
       "      <td>0.13</td>\n",
       "      <td>DAVENPORT</td>\n",
       "      <td>Scott</td>\n",
       "    </tr>\n",
       "  </tbody>\n",
       "</table>\n",
       "</div>"
      ],
      "text/plain": [
       "  Invoice/ItemNumber        Date  StoreNumber  \\\n",
       "0       S13206600042  07/08/2013         3908   \n",
       "1       S29065400007  11/16/2015         2555   \n",
       "2       S08372100023  10/16/2012         3816   \n",
       "3       S27992700007  09/21/2015         4898   \n",
       "4       S11403900036  04/02/2013         3858   \n",
       "\n",
       "                           StoreName        City_x ZipCode    CategoryName  \\\n",
       "0  County Market #214 / Fort Madison  FORT MADISON   52627  VODKA FLAVORED   \n",
       "1         Hy-Vee Food Store / Keokuk        KEOKUK   52632  VODKA 80 PROOF   \n",
       "2                              Swils       RED OAK   51566  VODKA FLAVORED   \n",
       "3                   Burlington Shell    BURLINGTON   52601  VODKA 80 PROOF   \n",
       "4    Harolds Jack N Jill / Davenport     DAVENPORT   52806  VODKA FLAVORED   \n",
       "\n",
       "                  VendorName            ItemDescription  Pack  \\\n",
       "0  Phillips Beverage Company  Uv Blue (raspberry) Vodka    12   \n",
       "1            Diageo Americas      Smirnoff Vodka 80 Prf    12   \n",
       "2  Phillips Beverage Company  Uv Blue (raspberry) Vodka    12   \n",
       "3            Diageo Americas      Smirnoff Vodka 80 Prf    48   \n",
       "4  Phillips Beverage Company          UV Candy Bar Mini     6   \n",
       "\n",
       "   BottleVolume(ml)  StateBottleCost  StateBottleRetail  BottlesSold  \\\n",
       "0              1000             7.50              11.25           12   \n",
       "1               750             8.25              12.38           12   \n",
       "2               750             6.25               9.49           12   \n",
       "3               200             2.75               4.13           10   \n",
       "4               500            29.30              43.95            1   \n",
       "\n",
       "   Sale(Dollars)  VolumeSold(Liters)  VolumeSold(Gallons)        City_y  \\\n",
       "0         135.00                12.0                 3.17  FORT MADISON   \n",
       "1         148.56                 9.0                 2.38        KEOKUK   \n",
       "2         113.88                 9.0                 2.38       RED OAK   \n",
       "3          41.30                 2.0                 0.53    BURLINGTON   \n",
       "4          43.95                 0.5                 0.13     DAVENPORT   \n",
       "\n",
       "       County  \n",
       "0         Lee  \n",
       "1         Lee  \n",
       "2  Montgomery  \n",
       "3  Des Moines  \n",
       "4       Scott  "
      ]
     },
     "execution_count": 37,
     "metadata": {},
     "output_type": "execute_result"
    }
   ],
   "source": [
    "#filtered_out.head()\n",
    "vodka=filtered_out\n",
    "vodka.head()"
   ]
  },
  {
   "cell_type": "markdown",
   "metadata": {},
   "source": [
    "## Check State Bottle Cost Distribution"
   ]
  },
  {
   "cell_type": "code",
   "execution_count": 38,
   "metadata": {},
   "outputs": [
    {
     "name": "stderr",
     "output_type": "stream",
     "text": [
      "/usr/local/anaconda3/lib/python3.7/site-packages/seaborn/distributions.py:2557: FutureWarning: `distplot` is a deprecated function and will be removed in a future version. Please adapt your code to use either `displot` (a figure-level function with similar flexibility) or `histplot` (an axes-level function for histograms).\n",
      "  warnings.warn(msg, FutureWarning)\n"
     ]
    },
    {
     "data": {
      "text/plain": [
       "Text(0.5, 1.0, 'Distribution of State Bottle Cost')"
      ]
     },
     "execution_count": 38,
     "metadata": {},
     "output_type": "execute_result"
    },
    {
     "data": {
      "image/png": "[encoded data removed]",
      "text/plain": [
       "<Figure size 432x288 with 1 Axes>"
      ]
     },
     "metadata": {},
     "output_type": "display_data"
    }
   ],
   "source": [
    "sns.set()\n",
    "state_cost=sns.distplot(vodka['StateBottleCost'], bins=10);\n",
    "state_cost.set_title('Distribution of State Bottle Cost')"
   ]
  },
  {
   "cell_type": "markdown",
   "metadata": {},
   "source": [
    "## Check State Bottle retail distribution"
   ]
  },
  {
   "cell_type": "code",
   "execution_count": 39,
   "metadata": {},
   "outputs": [
    {
     "name": "stderr",
     "output_type": "stream",
     "text": [
      "/usr/local/anaconda3/lib/python3.7/site-packages/seaborn/distributions.py:2557: FutureWarning: `distplot` is a deprecated function and will be removed in a future version. Please adapt your code to use either `displot` (a figure-level function with similar flexibility) or `histplot` (an axes-level function for histograms).\n",
      "  warnings.warn(msg, FutureWarning)\n"
     ]
    },
    {
     "data": {
      "text/plain": [
       "Text(0.5, 1.0, 'Distribution of State Bottle Retail')"
      ]
     },
     "execution_count": 39,
     "metadata": {},
     "output_type": "execute_result"
    },
    {
     "data": {
      "image/png": "[encoded data removed]",
      "text/plain": [
       "<Figure size 432x288 with 1 Axes>"
      ]
     },
     "metadata": {},
     "output_type": "display_data"
    }
   ],
   "source": [
    "sns.set()\n",
    "state_cost=sns.distplot(vodka['StateBottleRetail'], bins=10);\n",
    "state_cost.set_title('Distribution of State Bottle Retail')\n"
   ]
  },
  {
   "cell_type": "markdown",
   "metadata": {},
   "source": [
    "## Check State Bottle Sale (Dollars) Distribution"
   ]
  },
  {
   "cell_type": "code",
   "execution_count": 40,
   "metadata": {},
   "outputs": [
    {
     "name": "stderr",
     "output_type": "stream",
     "text": [
      "/usr/local/anaconda3/lib/python3.7/site-packages/seaborn/distributions.py:2557: FutureWarning: `distplot` is a deprecated function and will be removed in a future version. Please adapt your code to use either `displot` (a figure-level function with similar flexibility) or `histplot` (an axes-level function for histograms).\n",
      "  warnings.warn(msg, FutureWarning)\n"
     ]
    },
    {
     "data": {
      "text/plain": [
       "Text(0.5, 1.0, 'Distribution of Sale(Dollars)')"
      ]
     },
     "execution_count": 40,
     "metadata": {},
     "output_type": "execute_result"
    },
    {
     "data": {
      "image/png": "[encoded data removed]",
      "text/plain": [
       "<Figure size 432x288 with 1 Axes>"
      ]
     },
     "metadata": {},
     "output_type": "display_data"
    }
   ],
   "source": [
    "sns.set()\n",
    "state_cost=sns.distplot(vodka['Sale(Dollars)'], bins=10);\n",
    "state_cost.set_title('Distribution of Sale(Dollars)')"
   ]
  },
  {
   "cell_type": "markdown",
   "metadata": {},
   "source": [
    "## Checking which all categories of wines were sold?"
   ]
  },
  {
   "cell_type": "code",
   "execution_count": 41,
   "metadata": {},
   "outputs": [
    {
     "data": {
      "text/plain": [
       "array(['VODKA FLAVORED', 'VODKA 80 PROOF', 'IMPORTED VODKA - MISC',\n",
       "       'IMPORTED VODKA', '100 PROOF VODKA', 'OTHER PROOF VODKA',\n",
       "       'LOW PROOF VODKA', 'IMPORTED VODKA - CHERRY'], dtype=object)"
      ]
     },
     "execution_count": 41,
     "metadata": {},
     "output_type": "execute_result"
    }
   ],
   "source": [
    "vodka['CategoryName'].unique()"
   ]
  },
  {
   "cell_type": "markdown",
   "metadata": {},
   "source": [
    "## Checking which are the top 5 selling vodka?"
   ]
  },
  {
   "cell_type": "code",
   "execution_count": 42,
   "metadata": {},
   "outputs": [
    {
     "data": {
      "text/plain": [
       "CategoryName\n",
       "100 PROOF VODKA            7.305336e+06\n",
       "IMPORTED VODKA             7.643202e+07\n",
       "IMPORTED VODKA - CHERRY    2.348760e+03\n",
       "IMPORTED VODKA - MISC      2.962923e+07\n",
       "LOW PROOF VODKA            1.420988e+05\n",
       "OTHER PROOF VODKA          1.957475e+05\n",
       "VODKA 80 PROOF             1.457253e+08\n",
       "VODKA FLAVORED             3.869664e+07\n",
       "Name: Sale(Dollars), dtype: float64"
      ]
     },
     "execution_count": 42,
     "metadata": {},
     "output_type": "execute_result"
    }
   ],
   "source": [
    "vodka.groupby('CategoryName')['Sale(Dollars)'].sum()"
   ]
  },
  {
   "cell_type": "markdown",
   "metadata": {},
   "source": [
    "## Converting date column from datatype object to datetime"
   ]
  },
  {
   "cell_type": "code",
   "execution_count": null,
   "metadata": {},
   "outputs": [],
   "source": [
    "vodka['Date']= pd.to_datetime(vodka['Date']).copy()"
   ]
  },
  {
   "cell_type": "code",
   "execution_count": null,
   "metadata": {},
   "outputs": [],
   "source": [
    "#Creating a new column for Month\n",
    "vodka['Month']=vodka['Date'].dt.month\n",
    "vodka['Year']=vodka['Date'].dt.year"
   ]
  },
  {
   "cell_type": "markdown",
   "metadata": {},
   "source": [
    "## Checking the data consists of which years?"
   ]
  },
  {
   "cell_type": "code",
   "execution_count": 45,
   "metadata": {},
   "outputs": [
    {
     "data": {
      "text/plain": [
       "array([2013, 2015, 2012, 2014, 2016])"
      ]
     },
     "execution_count": 45,
     "metadata": {},
     "output_type": "execute_result"
    }
   ],
   "source": [
    "vodka['Year'].unique()"
   ]
  },
  {
   "cell_type": "code",
   "execution_count": null,
   "metadata": {},
   "outputs": [],
   "source": [
    "import calendar\n",
    "vodka['Month'] = vodka['Month'].apply(lambda x: calendar.month_abbr[x])"
   ]
  },
  {
   "cell_type": "code",
   "execution_count": 47,
   "metadata": {},
   "outputs": [
    {
     "data": {
      "text/html": [
       "<div>\n",
       "<style scoped>\n",
       "    .dataframe tbody tr th:only-of-type {\n",
       "        vertical-align: middle;\n",
       "    }\n",
       "\n",
       "    .dataframe tbody tr th {\n",
       "        vertical-align: top;\n",
       "    }\n",
       "\n",
       "    .dataframe thead th {\n",
       "        text-align: right;\n",
       "    }\n",
       "</style>\n",
       "<table border=\"1\" class=\"dataframe\">\n",
       "  <thead>\n",
       "    <tr style=\"text-align: right;\">\n",
       "      <th></th>\n",
       "      <th>Year</th>\n",
       "      <th>Sales</th>\n",
       "    </tr>\n",
       "  </thead>\n",
       "  <tbody>\n",
       "    <tr>\n",
       "      <th>0</th>\n",
       "      <td>2012</td>\n",
       "      <td>5.857269e+07</td>\n",
       "    </tr>\n",
       "    <tr>\n",
       "      <th>1</th>\n",
       "      <td>2013</td>\n",
       "      <td>6.023625e+07</td>\n",
       "    </tr>\n",
       "    <tr>\n",
       "      <th>2</th>\n",
       "      <td>2014</td>\n",
       "      <td>6.413945e+07</td>\n",
       "    </tr>\n",
       "    <tr>\n",
       "      <th>3</th>\n",
       "      <td>2015</td>\n",
       "      <td>6.814704e+07</td>\n",
       "    </tr>\n",
       "    <tr>\n",
       "      <th>4</th>\n",
       "      <td>2016</td>\n",
       "      <td>4.703332e+07</td>\n",
       "    </tr>\n",
       "  </tbody>\n",
       "</table>\n",
       "</div>"
      ],
      "text/plain": [
       "   Year         Sales\n",
       "0  2012  5.857269e+07\n",
       "1  2013  6.023625e+07\n",
       "2  2014  6.413945e+07\n",
       "3  2015  6.814704e+07\n",
       "4  2016  4.703332e+07"
      ]
     },
     "execution_count": 47,
     "metadata": {},
     "output_type": "execute_result"
    }
   ],
   "source": [
    "vodka_yearSales=vodka.groupby('Year')['Sale(Dollars)'].sum().reset_index()\n",
    "vodka_yearSales.rename(columns = {'Sale(Dollars)':'Sales'}, inplace = True) \n",
    "vodka_yearSales"
   ]
  },
  {
   "cell_type": "markdown",
   "metadata": {},
   "source": [
    "## What is the vodka sales trend throughout the years?"
   ]
  },
  {
   "cell_type": "code",
   "execution_count": 48,
   "metadata": {},
   "outputs": [
    {
     "data": {
      "image/png": "[encoded data removed]",
      "text/plain": [
       "<Figure size 432x288 with 1 Axes>"
      ]
     },
     "metadata": {},
     "output_type": "display_data"
    }
   ],
   "source": [
    "sns.set_style(\"darkgrid\")\n",
    "ax=sns.lineplot(x=vodka_yearSales.Year, y=vodka_yearSales.Sales,color='slategray')\n",
    "ax.set(ylabel='Sales')\n",
    "ax.set(xticks=vodka_yearSales.Year.values)\n",
    "ax.set_title(\"Vodka Yearly Sales\")\n",
    "plt.show()"
   ]
  },
  {
   "cell_type": "code",
   "execution_count": 49,
   "metadata": {},
   "outputs": [
    {
     "data": {
      "text/html": [
       "<div>\n",
       "<style scoped>\n",
       "    .dataframe tbody tr th:only-of-type {\n",
       "        vertical-align: middle;\n",
       "    }\n",
       "\n",
       "    .dataframe tbody tr th {\n",
       "        vertical-align: top;\n",
       "    }\n",
       "\n",
       "    .dataframe thead th {\n",
       "        text-align: right;\n",
       "    }\n",
       "</style>\n",
       "<table border=\"1\" class=\"dataframe\">\n",
       "  <thead>\n",
       "    <tr style=\"text-align: right;\">\n",
       "      <th></th>\n",
       "      <th>CategoryName</th>\n",
       "      <th>Sales</th>\n",
       "    </tr>\n",
       "  </thead>\n",
       "  <tbody>\n",
       "    <tr>\n",
       "      <th>0</th>\n",
       "      <td>100 PROOF VODKA</td>\n",
       "      <td>7.305336e+06</td>\n",
       "    </tr>\n",
       "    <tr>\n",
       "      <th>1</th>\n",
       "      <td>IMPORTED VODKA</td>\n",
       "      <td>7.643202e+07</td>\n",
       "    </tr>\n",
       "    <tr>\n",
       "      <th>2</th>\n",
       "      <td>IMPORTED VODKA - CHERRY</td>\n",
       "      <td>2.348760e+03</td>\n",
       "    </tr>\n",
       "    <tr>\n",
       "      <th>3</th>\n",
       "      <td>IMPORTED VODKA - MISC</td>\n",
       "      <td>2.962923e+07</td>\n",
       "    </tr>\n",
       "    <tr>\n",
       "      <th>4</th>\n",
       "      <td>LOW PROOF VODKA</td>\n",
       "      <td>1.420988e+05</td>\n",
       "    </tr>\n",
       "    <tr>\n",
       "      <th>5</th>\n",
       "      <td>OTHER PROOF VODKA</td>\n",
       "      <td>1.957475e+05</td>\n",
       "    </tr>\n",
       "    <tr>\n",
       "      <th>6</th>\n",
       "      <td>VODKA 80 PROOF</td>\n",
       "      <td>1.457253e+08</td>\n",
       "    </tr>\n",
       "    <tr>\n",
       "      <th>7</th>\n",
       "      <td>VODKA FLAVORED</td>\n",
       "      <td>3.869664e+07</td>\n",
       "    </tr>\n",
       "  </tbody>\n",
       "</table>\n",
       "</div>"
      ],
      "text/plain": [
       "              CategoryName         Sales\n",
       "0          100 PROOF VODKA  7.305336e+06\n",
       "1           IMPORTED VODKA  7.643202e+07\n",
       "2  IMPORTED VODKA - CHERRY  2.348760e+03\n",
       "3    IMPORTED VODKA - MISC  2.962923e+07\n",
       "4          LOW PROOF VODKA  1.420988e+05\n",
       "5        OTHER PROOF VODKA  1.957475e+05\n",
       "6           VODKA 80 PROOF  1.457253e+08\n",
       "7           VODKA FLAVORED  3.869664e+07"
      ]
     },
     "execution_count": 49,
     "metadata": {},
     "output_type": "execute_result"
    }
   ],
   "source": [
    "graph_data=vodka.groupby('CategoryName')['Sale(Dollars)'].sum().reset_index()\n",
    "graph_data.rename(columns = {'CategoryName':'CategoryName','Sale(Dollars)':'Sales'}, inplace = True) \n",
    "graph_data"
   ]
  },
  {
   "cell_type": "markdown",
   "metadata": {},
   "source": [
    "## Which category has the highest vodka sales?"
   ]
  },
  {
   "cell_type": "code",
   "execution_count": 50,
   "metadata": {},
   "outputs": [
    {
     "data": {
      "image/png": "[encoded data removed]",
      "text/plain": [
       "<Figure size 432x288 with 1 Axes>"
      ]
     },
     "metadata": {},
     "output_type": "display_data"
    }
   ],
   "source": [
    "ax=sns.barplot(x=graph_data.CategoryName, y=graph_data.Sales,color='Navy',order=graph_data.sort_values('Sales',ascending = False).CategoryName)\n",
    "ax.set(ylim=(0,100000000))\n",
    "ax.set(xlabel='VodkaCategory')\n",
    "ax.set(ylabel='Sales')\n",
    "ax.set_title(\"Vodka Category wise Sales\",fontsize=20)\n",
    "ax.set_xticklabels(ax.get_xticklabels(), rotation=70, ha=\"right\")\n",
    "plt.setp(ax.patches, linewidth=3.5,edgecolor=\"Navy\")                   \n",
    "plt.show()"
   ]
  },
  {
   "cell_type": "code",
   "execution_count": 51,
   "metadata": {},
   "outputs": [
    {
     "data": {
      "text/html": [
       "<div>\n",
       "<style scoped>\n",
       "    .dataframe tbody tr th:only-of-type {\n",
       "        vertical-align: middle;\n",
       "    }\n",
       "\n",
       "    .dataframe tbody tr th {\n",
       "        vertical-align: top;\n",
       "    }\n",
       "\n",
       "    .dataframe thead th {\n",
       "        text-align: right;\n",
       "    }\n",
       "</style>\n",
       "<table border=\"1\" class=\"dataframe\">\n",
       "  <thead>\n",
       "    <tr style=\"text-align: right;\">\n",
       "      <th></th>\n",
       "      <th>Invoice/ItemNumber</th>\n",
       "      <th>Date</th>\n",
       "      <th>StoreNumber</th>\n",
       "      <th>StoreName</th>\n",
       "      <th>City_x</th>\n",
       "      <th>ZipCode</th>\n",
       "      <th>CategoryName</th>\n",
       "      <th>VendorName</th>\n",
       "      <th>ItemDescription</th>\n",
       "      <th>Pack</th>\n",
       "      <th>BottleVolume(ml)</th>\n",
       "      <th>StateBottleCost</th>\n",
       "      <th>StateBottleRetail</th>\n",
       "      <th>BottlesSold</th>\n",
       "      <th>Sales</th>\n",
       "      <th>VolumeSold(Liters)</th>\n",
       "      <th>VolumeSold(Gallons)</th>\n",
       "      <th>City_y</th>\n",
       "      <th>County</th>\n",
       "      <th>Month</th>\n",
       "      <th>Year</th>\n",
       "    </tr>\n",
       "  </thead>\n",
       "  <tbody>\n",
       "    <tr>\n",
       "      <th>0</th>\n",
       "      <td>S13206600042</td>\n",
       "      <td>2013-07-08</td>\n",
       "      <td>3908</td>\n",
       "      <td>County Market #214 / Fort Madison</td>\n",
       "      <td>FORT MADISON</td>\n",
       "      <td>52627</td>\n",
       "      <td>VODKA FLAVORED</td>\n",
       "      <td>Phillips Beverage Company</td>\n",
       "      <td>Uv Blue (raspberry) Vodka</td>\n",
       "      <td>12</td>\n",
       "      <td>1000</td>\n",
       "      <td>7.50</td>\n",
       "      <td>11.25</td>\n",
       "      <td>12</td>\n",
       "      <td>135.00</td>\n",
       "      <td>12.0</td>\n",
       "      <td>3.17</td>\n",
       "      <td>FORT MADISON</td>\n",
       "      <td>Lee</td>\n",
       "      <td>Jul</td>\n",
       "      <td>2013</td>\n",
       "    </tr>\n",
       "    <tr>\n",
       "      <th>1</th>\n",
       "      <td>S29065400007</td>\n",
       "      <td>2015-11-16</td>\n",
       "      <td>2555</td>\n",
       "      <td>Hy-Vee Food Store / Keokuk</td>\n",
       "      <td>KEOKUK</td>\n",
       "      <td>52632</td>\n",
       "      <td>VODKA 80 PROOF</td>\n",
       "      <td>Diageo Americas</td>\n",
       "      <td>Smirnoff Vodka 80 Prf</td>\n",
       "      <td>12</td>\n",
       "      <td>750</td>\n",
       "      <td>8.25</td>\n",
       "      <td>12.38</td>\n",
       "      <td>12</td>\n",
       "      <td>148.56</td>\n",
       "      <td>9.0</td>\n",
       "      <td>2.38</td>\n",
       "      <td>KEOKUK</td>\n",
       "      <td>Lee</td>\n",
       "      <td>Nov</td>\n",
       "      <td>2015</td>\n",
       "    </tr>\n",
       "    <tr>\n",
       "      <th>2</th>\n",
       "      <td>S08372100023</td>\n",
       "      <td>2012-10-16</td>\n",
       "      <td>3816</td>\n",
       "      <td>Swils</td>\n",
       "      <td>RED OAK</td>\n",
       "      <td>51566</td>\n",
       "      <td>VODKA FLAVORED</td>\n",
       "      <td>Phillips Beverage Company</td>\n",
       "      <td>Uv Blue (raspberry) Vodka</td>\n",
       "      <td>12</td>\n",
       "      <td>750</td>\n",
       "      <td>6.25</td>\n",
       "      <td>9.49</td>\n",
       "      <td>12</td>\n",
       "      <td>113.88</td>\n",
       "      <td>9.0</td>\n",
       "      <td>2.38</td>\n",
       "      <td>RED OAK</td>\n",
       "      <td>Montgomery</td>\n",
       "      <td>Oct</td>\n",
       "      <td>2012</td>\n",
       "    </tr>\n",
       "    <tr>\n",
       "      <th>3</th>\n",
       "      <td>S27992700007</td>\n",
       "      <td>2015-09-21</td>\n",
       "      <td>4898</td>\n",
       "      <td>Burlington Shell</td>\n",
       "      <td>BURLINGTON</td>\n",
       "      <td>52601</td>\n",
       "      <td>VODKA 80 PROOF</td>\n",
       "      <td>Diageo Americas</td>\n",
       "      <td>Smirnoff Vodka 80 Prf</td>\n",
       "      <td>48</td>\n",
       "      <td>200</td>\n",
       "      <td>2.75</td>\n",
       "      <td>4.13</td>\n",
       "      <td>10</td>\n",
       "      <td>41.30</td>\n",
       "      <td>2.0</td>\n",
       "      <td>0.53</td>\n",
       "      <td>BURLINGTON</td>\n",
       "      <td>Des Moines</td>\n",
       "      <td>Sep</td>\n",
       "      <td>2015</td>\n",
       "    </tr>\n",
       "    <tr>\n",
       "      <th>4</th>\n",
       "      <td>S11403900036</td>\n",
       "      <td>2013-04-02</td>\n",
       "      <td>3858</td>\n",
       "      <td>Harolds Jack N Jill / Davenport</td>\n",
       "      <td>DAVENPORT</td>\n",
       "      <td>52806</td>\n",
       "      <td>VODKA FLAVORED</td>\n",
       "      <td>Phillips Beverage Company</td>\n",
       "      <td>UV Candy Bar Mini</td>\n",
       "      <td>6</td>\n",
       "      <td>500</td>\n",
       "      <td>29.30</td>\n",
       "      <td>43.95</td>\n",
       "      <td>1</td>\n",
       "      <td>43.95</td>\n",
       "      <td>0.5</td>\n",
       "      <td>0.13</td>\n",
       "      <td>DAVENPORT</td>\n",
       "      <td>Scott</td>\n",
       "      <td>Apr</td>\n",
       "      <td>2013</td>\n",
       "    </tr>\n",
       "  </tbody>\n",
       "</table>\n",
       "</div>"
      ],
      "text/plain": [
       "  Invoice/ItemNumber       Date  StoreNumber  \\\n",
       "0       S13206600042 2013-07-08         3908   \n",
       "1       S29065400007 2015-11-16         2555   \n",
       "2       S08372100023 2012-10-16         3816   \n",
       "3       S27992700007 2015-09-21         4898   \n",
       "4       S11403900036 2013-04-02         3858   \n",
       "\n",
       "                           StoreName        City_x ZipCode    CategoryName  \\\n",
       "0  County Market #214 / Fort Madison  FORT MADISON   52627  VODKA FLAVORED   \n",
       "1         Hy-Vee Food Store / Keokuk        KEOKUK   52632  VODKA 80 PROOF   \n",
       "2                              Swils       RED OAK   51566  VODKA FLAVORED   \n",
       "3                   Burlington Shell    BURLINGTON   52601  VODKA 80 PROOF   \n",
       "4    Harolds Jack N Jill / Davenport     DAVENPORT   52806  VODKA FLAVORED   \n",
       "\n",
       "                  VendorName            ItemDescription  Pack  \\\n",
       "0  Phillips Beverage Company  Uv Blue (raspberry) Vodka    12   \n",
       "1            Diageo Americas      Smirnoff Vodka 80 Prf    12   \n",
       "2  Phillips Beverage Company  Uv Blue (raspberry) Vodka    12   \n",
       "3            Diageo Americas      Smirnoff Vodka 80 Prf    48   \n",
       "4  Phillips Beverage Company          UV Candy Bar Mini     6   \n",
       "\n",
       "   BottleVolume(ml)  StateBottleCost  StateBottleRetail  BottlesSold   Sales  \\\n",
       "0              1000             7.50              11.25           12  135.00   \n",
       "1               750             8.25              12.38           12  148.56   \n",
       "2               750             6.25               9.49           12  113.88   \n",
       "3               200             2.75               4.13           10   41.30   \n",
       "4               500            29.30              43.95            1   43.95   \n",
       "\n",
       "   VolumeSold(Liters)  VolumeSold(Gallons)        City_y      County Month  \\\n",
       "0                12.0                 3.17  FORT MADISON         Lee   Jul   \n",
       "1                 9.0                 2.38        KEOKUK         Lee   Nov   \n",
       "2                 9.0                 2.38       RED OAK  Montgomery   Oct   \n",
       "3                 2.0                 0.53    BURLINGTON  Des Moines   Sep   \n",
       "4                 0.5                 0.13     DAVENPORT       Scott   Apr   \n",
       "\n",
       "   Year  \n",
       "0  2013  \n",
       "1  2015  \n",
       "2  2012  \n",
       "3  2015  \n",
       "4  2013  "
      ]
     },
     "execution_count": 51,
     "metadata": {},
     "output_type": "execute_result"
    }
   ],
   "source": [
    "vodka_new=vodka.loc[vodka['Year']!= 2016].copy()\n",
    "vodka_new.rename(columns = {'Sale(Dollars)':'Sales'}, inplace = True) \n",
    "vodka_new.head()\n",
    "#vodka = vodka.set_index('Year',append=True)\n",
    "#test=vodka[[\"Sale (Dollars)\"]].copy()\n",
    "#test\n"
   ]
  },
  {
   "cell_type": "markdown",
   "metadata": {},
   "source": [
    "## What is the vodka sales throughout the years?"
   ]
  },
  {
   "cell_type": "code",
   "execution_count": 53,
   "metadata": {},
   "outputs": [
    {
     "data": {
      "image/png": "[encoded data removed]",
      "text/plain": [
       "<Figure size 864x576 with 1 Axes>"
      ]
     },
     "metadata": {},
     "output_type": "display_data"
    }
   ],
   "source": [
    "vodka_new.set_index(['Date'], inplace=True)\n",
    "ts = vodka_new['Sales']\n",
    "\n",
    "df_plot = ts.groupby([ts.index.month,ts.index.year]).sum().unstack()\n",
    "df_plot\n",
    "\n",
    "fig, ax = plt.subplots(figsize=(12,8))\n",
    "df_plot.plot(ax=ax,legend=False)\n",
    "\n",
    "# xticks\n",
    "months = [calendar.month_abbr[i] for i in range(1,13)]\n",
    "ax.set_xticks(range(12))\n",
    "ax.set(xlabel='Month',ylabel='Vodka Sales')\n",
    "ax.set_title('Vodka Sales Trend over the years',fontsize=20)\n",
    "ax.set_xticklabels(months)\n",
    "\n",
    "# plot names in the end\n",
    "for col in df_plot.columns:\n",
    "    plt.annotate(col,xy=(plt.xticks()[0][-1]+0.7, df_plot[col].iloc[-1]))\n"
   ]
  },
  {
   "cell_type": "markdown",
   "metadata": {},
   "source": [
    "## Calculating total cost"
   ]
  },
  {
   "cell_type": "code",
   "execution_count": 54,
   "metadata": {},
   "outputs": [
    {
     "name": "stdout",
     "output_type": "stream",
     "text": [
      "0          90.00\n",
      "1          99.00\n",
      "2          75.00\n",
      "3          27.50\n",
      "4          29.30\n",
      "           ...  \n",
      "2533151     8.34\n",
      "2533152     8.84\n",
      "2533153    91.20\n",
      "2533154    75.54\n",
      "2533155    25.08\n",
      "Length: 2532290, dtype: float64\n"
     ]
    }
   ],
   "source": [
    "Total_Cost =vodka['BottlesSold'] * vodka['StateBottleCost'] \n",
    "print(Total_Cost)"
   ]
  },
  {
   "cell_type": "markdown",
   "metadata": {},
   "source": [
    "## Adding new column"
   ]
  },
  {
   "cell_type": "code",
   "execution_count": null,
   "metadata": {},
   "outputs": [],
   "source": [
    "vodka['Total_Cost']=Total_Cost"
   ]
  },
  {
   "cell_type": "markdown",
   "metadata": {},
   "source": [
    "## Changing column name"
   ]
  },
  {
   "cell_type": "code",
   "execution_count": 56,
   "metadata": {},
   "outputs": [
    {
     "data": {
      "text/html": [
       "<div>\n",
       "<style scoped>\n",
       "    .dataframe tbody tr th:only-of-type {\n",
       "        vertical-align: middle;\n",
       "    }\n",
       "\n",
       "    .dataframe tbody tr th {\n",
       "        vertical-align: top;\n",
       "    }\n",
       "\n",
       "    .dataframe thead th {\n",
       "        text-align: right;\n",
       "    }\n",
       "</style>\n",
       "<table border=\"1\" class=\"dataframe\">\n",
       "  <thead>\n",
       "    <tr style=\"text-align: right;\">\n",
       "      <th></th>\n",
       "      <th>Invoice/ItemNumber</th>\n",
       "      <th>Date</th>\n",
       "      <th>StoreNumber</th>\n",
       "      <th>StoreName</th>\n",
       "      <th>City_x</th>\n",
       "      <th>ZipCode</th>\n",
       "      <th>CategoryName</th>\n",
       "      <th>VendorName</th>\n",
       "      <th>ItemDescription</th>\n",
       "      <th>Pack</th>\n",
       "      <th>BottleVolume(ml)</th>\n",
       "      <th>StateBottleCost</th>\n",
       "      <th>StateBottleRetail</th>\n",
       "      <th>BottlesSold</th>\n",
       "      <th>Total_Sales</th>\n",
       "      <th>VolumeSold(Liters)</th>\n",
       "      <th>VolumeSold(Gallons)</th>\n",
       "      <th>City_y</th>\n",
       "      <th>County</th>\n",
       "      <th>Month</th>\n",
       "      <th>Year</th>\n",
       "      <th>Total_Cost</th>\n",
       "    </tr>\n",
       "  </thead>\n",
       "  <tbody>\n",
       "    <tr>\n",
       "      <th>0</th>\n",
       "      <td>S13206600042</td>\n",
       "      <td>2013-07-08</td>\n",
       "      <td>3908</td>\n",
       "      <td>County Market #214 / Fort Madison</td>\n",
       "      <td>FORT MADISON</td>\n",
       "      <td>52627</td>\n",
       "      <td>VODKA FLAVORED</td>\n",
       "      <td>Phillips Beverage Company</td>\n",
       "      <td>Uv Blue (raspberry) Vodka</td>\n",
       "      <td>12</td>\n",
       "      <td>1000</td>\n",
       "      <td>7.50</td>\n",
       "      <td>11.25</td>\n",
       "      <td>12</td>\n",
       "      <td>135.00</td>\n",
       "      <td>12.0</td>\n",
       "      <td>3.17</td>\n",
       "      <td>FORT MADISON</td>\n",
       "      <td>Lee</td>\n",
       "      <td>Jul</td>\n",
       "      <td>2013</td>\n",
       "      <td>90.0</td>\n",
       "    </tr>\n",
       "    <tr>\n",
       "      <th>1</th>\n",
       "      <td>S29065400007</td>\n",
       "      <td>2015-11-16</td>\n",
       "      <td>2555</td>\n",
       "      <td>Hy-Vee Food Store / Keokuk</td>\n",
       "      <td>KEOKUK</td>\n",
       "      <td>52632</td>\n",
       "      <td>VODKA 80 PROOF</td>\n",
       "      <td>Diageo Americas</td>\n",
       "      <td>Smirnoff Vodka 80 Prf</td>\n",
       "      <td>12</td>\n",
       "      <td>750</td>\n",
       "      <td>8.25</td>\n",
       "      <td>12.38</td>\n",
       "      <td>12</td>\n",
       "      <td>148.56</td>\n",
       "      <td>9.0</td>\n",
       "      <td>2.38</td>\n",
       "      <td>KEOKUK</td>\n",
       "      <td>Lee</td>\n",
       "      <td>Nov</td>\n",
       "      <td>2015</td>\n",
       "      <td>99.0</td>\n",
       "    </tr>\n",
       "    <tr>\n",
       "      <th>2</th>\n",
       "      <td>S08372100023</td>\n",
       "      <td>2012-10-16</td>\n",
       "      <td>3816</td>\n",
       "      <td>Swils</td>\n",
       "      <td>RED OAK</td>\n",
       "      <td>51566</td>\n",
       "      <td>VODKA FLAVORED</td>\n",
       "      <td>Phillips Beverage Company</td>\n",
       "      <td>Uv Blue (raspberry) Vodka</td>\n",
       "      <td>12</td>\n",
       "      <td>750</td>\n",
       "      <td>6.25</td>\n",
       "      <td>9.49</td>\n",
       "      <td>12</td>\n",
       "      <td>113.88</td>\n",
       "      <td>9.0</td>\n",
       "      <td>2.38</td>\n",
       "      <td>RED OAK</td>\n",
       "      <td>Montgomery</td>\n",
       "      <td>Oct</td>\n",
       "      <td>2012</td>\n",
       "      <td>75.0</td>\n",
       "    </tr>\n",
       "    <tr>\n",
       "      <th>3</th>\n",
       "      <td>S27992700007</td>\n",
       "      <td>2015-09-21</td>\n",
       "      <td>4898</td>\n",
       "      <td>Burlington Shell</td>\n",
       "      <td>BURLINGTON</td>\n",
       "      <td>52601</td>\n",
       "      <td>VODKA 80 PROOF</td>\n",
       "      <td>Diageo Americas</td>\n",
       "      <td>Smirnoff Vodka 80 Prf</td>\n",
       "      <td>48</td>\n",
       "      <td>200</td>\n",
       "      <td>2.75</td>\n",
       "      <td>4.13</td>\n",
       "      <td>10</td>\n",
       "      <td>41.30</td>\n",
       "      <td>2.0</td>\n",
       "      <td>0.53</td>\n",
       "      <td>BURLINGTON</td>\n",
       "      <td>Des Moines</td>\n",
       "      <td>Sep</td>\n",
       "      <td>2015</td>\n",
       "      <td>27.5</td>\n",
       "    </tr>\n",
       "    <tr>\n",
       "      <th>4</th>\n",
       "      <td>S11403900036</td>\n",
       "      <td>2013-04-02</td>\n",
       "      <td>3858</td>\n",
       "      <td>Harolds Jack N Jill / Davenport</td>\n",
       "      <td>DAVENPORT</td>\n",
       "      <td>52806</td>\n",
       "      <td>VODKA FLAVORED</td>\n",
       "      <td>Phillips Beverage Company</td>\n",
       "      <td>UV Candy Bar Mini</td>\n",
       "      <td>6</td>\n",
       "      <td>500</td>\n",
       "      <td>29.30</td>\n",
       "      <td>43.95</td>\n",
       "      <td>1</td>\n",
       "      <td>43.95</td>\n",
       "      <td>0.5</td>\n",
       "      <td>0.13</td>\n",
       "      <td>DAVENPORT</td>\n",
       "      <td>Scott</td>\n",
       "      <td>Apr</td>\n",
       "      <td>2013</td>\n",
       "      <td>29.3</td>\n",
       "    </tr>\n",
       "  </tbody>\n",
       "</table>\n",
       "</div>"
      ],
      "text/plain": [
       "  Invoice/ItemNumber       Date  StoreNumber  \\\n",
       "0       S13206600042 2013-07-08         3908   \n",
       "1       S29065400007 2015-11-16         2555   \n",
       "2       S08372100023 2012-10-16         3816   \n",
       "3       S27992700007 2015-09-21         4898   \n",
       "4       S11403900036 2013-04-02         3858   \n",
       "\n",
       "                           StoreName        City_x ZipCode    CategoryName  \\\n",
       "0  County Market #214 / Fort Madison  FORT MADISON   52627  VODKA FLAVORED   \n",
       "1         Hy-Vee Food Store / Keokuk        KEOKUK   52632  VODKA 80 PROOF   \n",
       "2                              Swils       RED OAK   51566  VODKA FLAVORED   \n",
       "3                   Burlington Shell    BURLINGTON   52601  VODKA 80 PROOF   \n",
       "4    Harolds Jack N Jill / Davenport     DAVENPORT   52806  VODKA FLAVORED   \n",
       "\n",
       "                  VendorName            ItemDescription  Pack  \\\n",
       "0  Phillips Beverage Company  Uv Blue (raspberry) Vodka    12   \n",
       "1            Diageo Americas      Smirnoff Vodka 80 Prf    12   \n",
       "2  Phillips Beverage Company  Uv Blue (raspberry) Vodka    12   \n",
       "3            Diageo Americas      Smirnoff Vodka 80 Prf    48   \n",
       "4  Phillips Beverage Company          UV Candy Bar Mini     6   \n",
       "\n",
       "   BottleVolume(ml)  StateBottleCost  StateBottleRetail  BottlesSold  \\\n",
       "0              1000             7.50              11.25           12   \n",
       "1               750             8.25              12.38           12   \n",
       "2               750             6.25               9.49           12   \n",
       "3               200             2.75               4.13           10   \n",
       "4               500            29.30              43.95            1   \n",
       "\n",
       "   Total_Sales  VolumeSold(Liters)  VolumeSold(Gallons)        City_y  \\\n",
       "0       135.00                12.0                 3.17  FORT MADISON   \n",
       "1       148.56                 9.0                 2.38        KEOKUK   \n",
       "2       113.88                 9.0                 2.38       RED OAK   \n",
       "3        41.30                 2.0                 0.53    BURLINGTON   \n",
       "4        43.95                 0.5                 0.13     DAVENPORT   \n",
       "\n",
       "       County Month  Year  Total_Cost  \n",
       "0         Lee   Jul  2013        90.0  \n",
       "1         Lee   Nov  2015        99.0  \n",
       "2  Montgomery   Oct  2012        75.0  \n",
       "3  Des Moines   Sep  2015        27.5  \n",
       "4       Scott   Apr  2013        29.3  "
      ]
     },
     "execution_count": 56,
     "metadata": {},
     "output_type": "execute_result"
    }
   ],
   "source": [
    "vodka = vodka.rename(columns={'Sale(Dollars)': 'Total_Sales'})\n",
    "vodka.head()"
   ]
  },
  {
   "cell_type": "markdown",
   "metadata": {},
   "source": [
    "## Calculating Profit"
   ]
  },
  {
   "cell_type": "code",
   "execution_count": 57,
   "metadata": {},
   "outputs": [
    {
     "name": "stdout",
     "output_type": "stream",
     "text": [
      "0          45.00\n",
      "1          49.56\n",
      "2          38.88\n",
      "3          13.80\n",
      "4          14.65\n",
      "           ...  \n",
      "2533151     4.18\n",
      "2533152     4.42\n",
      "2533153    45.60\n",
      "2533154    37.80\n",
      "2533155    12.54\n",
      "Length: 2532290, dtype: float64\n"
     ]
    }
   ],
   "source": [
    "Profit = vodka[\"Total_Sales\"] - vodka[\"Total_Cost\"]\n",
    "print(Profit)"
   ]
  },
  {
   "cell_type": "code",
   "execution_count": 58,
   "metadata": {},
   "outputs": [],
   "source": [
    "vodka['Total_Profit']= Profit"
   ]
  },
  {
   "cell_type": "markdown",
   "metadata": {},
   "source": [
    "## # Vodka Sales with respect to county"
   ]
  },
  {
   "cell_type": "code",
   "execution_count": 59,
   "metadata": {},
   "outputs": [
    {
     "data": {
      "text/html": [
       "<div>\n",
       "<style scoped>\n",
       "    .dataframe tbody tr th:only-of-type {\n",
       "        vertical-align: middle;\n",
       "    }\n",
       "\n",
       "    .dataframe tbody tr th {\n",
       "        vertical-align: top;\n",
       "    }\n",
       "\n",
       "    .dataframe thead th {\n",
       "        text-align: right;\n",
       "    }\n",
       "</style>\n",
       "<table border=\"1\" class=\"dataframe\">\n",
       "  <thead>\n",
       "    <tr style=\"text-align: right;\">\n",
       "      <th></th>\n",
       "      <th>Invoice/ItemNumber</th>\n",
       "      <th>Date</th>\n",
       "      <th>StoreNumber</th>\n",
       "      <th>StoreName</th>\n",
       "      <th>City_x</th>\n",
       "      <th>ZipCode</th>\n",
       "      <th>CategoryName</th>\n",
       "      <th>VendorName</th>\n",
       "      <th>ItemDescription</th>\n",
       "      <th>Pack</th>\n",
       "      <th>BottleVolume(ml)</th>\n",
       "      <th>StateBottleCost</th>\n",
       "      <th>StateBottleRetail</th>\n",
       "      <th>BottlesSold</th>\n",
       "      <th>Total_Sales</th>\n",
       "      <th>VolumeSold(Liters)</th>\n",
       "      <th>VolumeSold(Gallons)</th>\n",
       "      <th>City_y</th>\n",
       "      <th>County</th>\n",
       "      <th>Month</th>\n",
       "      <th>Year</th>\n",
       "      <th>Total_Cost</th>\n",
       "      <th>Total_Profit</th>\n",
       "    </tr>\n",
       "  </thead>\n",
       "  <tbody>\n",
       "    <tr>\n",
       "      <th>0</th>\n",
       "      <td>S13206600042</td>\n",
       "      <td>2013-07-08</td>\n",
       "      <td>3908</td>\n",
       "      <td>County Market #214 / Fort Madison</td>\n",
       "      <td>FORT MADISON</td>\n",
       "      <td>52627</td>\n",
       "      <td>VODKA FLAVORED</td>\n",
       "      <td>Phillips Beverage Company</td>\n",
       "      <td>Uv Blue (raspberry) Vodka</td>\n",
       "      <td>12</td>\n",
       "      <td>1000</td>\n",
       "      <td>7.50</td>\n",
       "      <td>11.25</td>\n",
       "      <td>12</td>\n",
       "      <td>135.00</td>\n",
       "      <td>12.00</td>\n",
       "      <td>3.17</td>\n",
       "      <td>FORT MADISON</td>\n",
       "      <td>Lee</td>\n",
       "      <td>Jul</td>\n",
       "      <td>2013</td>\n",
       "      <td>90.00</td>\n",
       "      <td>45.00</td>\n",
       "    </tr>\n",
       "    <tr>\n",
       "      <th>1</th>\n",
       "      <td>S29065400007</td>\n",
       "      <td>2015-11-16</td>\n",
       "      <td>2555</td>\n",
       "      <td>Hy-Vee Food Store / Keokuk</td>\n",
       "      <td>KEOKUK</td>\n",
       "      <td>52632</td>\n",
       "      <td>VODKA 80 PROOF</td>\n",
       "      <td>Diageo Americas</td>\n",
       "      <td>Smirnoff Vodka 80 Prf</td>\n",
       "      <td>12</td>\n",
       "      <td>750</td>\n",
       "      <td>8.25</td>\n",
       "      <td>12.38</td>\n",
       "      <td>12</td>\n",
       "      <td>148.56</td>\n",
       "      <td>9.00</td>\n",
       "      <td>2.38</td>\n",
       "      <td>KEOKUK</td>\n",
       "      <td>Lee</td>\n",
       "      <td>Nov</td>\n",
       "      <td>2015</td>\n",
       "      <td>99.00</td>\n",
       "      <td>49.56</td>\n",
       "    </tr>\n",
       "    <tr>\n",
       "      <th>2</th>\n",
       "      <td>S08372100023</td>\n",
       "      <td>2012-10-16</td>\n",
       "      <td>3816</td>\n",
       "      <td>Swils</td>\n",
       "      <td>RED OAK</td>\n",
       "      <td>51566</td>\n",
       "      <td>VODKA FLAVORED</td>\n",
       "      <td>Phillips Beverage Company</td>\n",
       "      <td>Uv Blue (raspberry) Vodka</td>\n",
       "      <td>12</td>\n",
       "      <td>750</td>\n",
       "      <td>6.25</td>\n",
       "      <td>9.49</td>\n",
       "      <td>12</td>\n",
       "      <td>113.88</td>\n",
       "      <td>9.00</td>\n",
       "      <td>2.38</td>\n",
       "      <td>RED OAK</td>\n",
       "      <td>Montgomery</td>\n",
       "      <td>Oct</td>\n",
       "      <td>2012</td>\n",
       "      <td>75.00</td>\n",
       "      <td>38.88</td>\n",
       "    </tr>\n",
       "    <tr>\n",
       "      <th>3</th>\n",
       "      <td>S27992700007</td>\n",
       "      <td>2015-09-21</td>\n",
       "      <td>4898</td>\n",
       "      <td>Burlington Shell</td>\n",
       "      <td>BURLINGTON</td>\n",
       "      <td>52601</td>\n",
       "      <td>VODKA 80 PROOF</td>\n",
       "      <td>Diageo Americas</td>\n",
       "      <td>Smirnoff Vodka 80 Prf</td>\n",
       "      <td>48</td>\n",
       "      <td>200</td>\n",
       "      <td>2.75</td>\n",
       "      <td>4.13</td>\n",
       "      <td>10</td>\n",
       "      <td>41.30</td>\n",
       "      <td>2.00</td>\n",
       "      <td>0.53</td>\n",
       "      <td>BURLINGTON</td>\n",
       "      <td>Des Moines</td>\n",
       "      <td>Sep</td>\n",
       "      <td>2015</td>\n",
       "      <td>27.50</td>\n",
       "      <td>13.80</td>\n",
       "    </tr>\n",
       "    <tr>\n",
       "      <th>4</th>\n",
       "      <td>S11403900036</td>\n",
       "      <td>2013-04-02</td>\n",
       "      <td>3858</td>\n",
       "      <td>Harolds Jack N Jill / Davenport</td>\n",
       "      <td>DAVENPORT</td>\n",
       "      <td>52806</td>\n",
       "      <td>VODKA FLAVORED</td>\n",
       "      <td>Phillips Beverage Company</td>\n",
       "      <td>UV Candy Bar Mini</td>\n",
       "      <td>6</td>\n",
       "      <td>500</td>\n",
       "      <td>29.30</td>\n",
       "      <td>43.95</td>\n",
       "      <td>1</td>\n",
       "      <td>43.95</td>\n",
       "      <td>0.50</td>\n",
       "      <td>0.13</td>\n",
       "      <td>DAVENPORT</td>\n",
       "      <td>Scott</td>\n",
       "      <td>Apr</td>\n",
       "      <td>2013</td>\n",
       "      <td>29.30</td>\n",
       "      <td>14.65</td>\n",
       "    </tr>\n",
       "    <tr>\n",
       "      <th>5</th>\n",
       "      <td>S19526900004</td>\n",
       "      <td>2014-06-12</td>\n",
       "      <td>4819</td>\n",
       "      <td>Super Stop 2 / Altoona</td>\n",
       "      <td>ALTOONA</td>\n",
       "      <td>50009</td>\n",
       "      <td>VODKA 80 PROOF</td>\n",
       "      <td>Sazerac North America</td>\n",
       "      <td>Barton Vodka</td>\n",
       "      <td>6</td>\n",
       "      <td>1750</td>\n",
       "      <td>6.92</td>\n",
       "      <td>10.38</td>\n",
       "      <td>6</td>\n",
       "      <td>62.28</td>\n",
       "      <td>10.50</td>\n",
       "      <td>2.77</td>\n",
       "      <td>ALTOONA</td>\n",
       "      <td>Polk</td>\n",
       "      <td>Jun</td>\n",
       "      <td>2014</td>\n",
       "      <td>41.52</td>\n",
       "      <td>20.76</td>\n",
       "    </tr>\n",
       "    <tr>\n",
       "      <th>6</th>\n",
       "      <td>S04958400027</td>\n",
       "      <td>2012-04-10</td>\n",
       "      <td>4488</td>\n",
       "      <td>Casey's General Store #2762 / Cedar</td>\n",
       "      <td>CEDAR RAPIDS</td>\n",
       "      <td>52404</td>\n",
       "      <td>IMPORTED VODKA - MISC</td>\n",
       "      <td>Pernod Ricard USA/Austin Nichols</td>\n",
       "      <td>Absolut Ruby Red</td>\n",
       "      <td>12</td>\n",
       "      <td>750</td>\n",
       "      <td>10.89</td>\n",
       "      <td>16.33</td>\n",
       "      <td>4</td>\n",
       "      <td>65.32</td>\n",
       "      <td>3.00</td>\n",
       "      <td>0.79</td>\n",
       "      <td>CEDAR RAPIDS</td>\n",
       "      <td>Linn</td>\n",
       "      <td>Apr</td>\n",
       "      <td>2012</td>\n",
       "      <td>43.56</td>\n",
       "      <td>21.76</td>\n",
       "    </tr>\n",
       "    <tr>\n",
       "      <th>7</th>\n",
       "      <td>S10436800050</td>\n",
       "      <td>2013-02-05</td>\n",
       "      <td>2962</td>\n",
       "      <td>Dahl's / Johnston</td>\n",
       "      <td>JOHNSTON</td>\n",
       "      <td>50131</td>\n",
       "      <td>VODKA 80 PROOF</td>\n",
       "      <td>E AND J GALLO WINERY</td>\n",
       "      <td>New Amsterdam Vodka</td>\n",
       "      <td>12</td>\n",
       "      <td>750</td>\n",
       "      <td>6.90</td>\n",
       "      <td>10.35</td>\n",
       "      <td>3</td>\n",
       "      <td>31.05</td>\n",
       "      <td>2.25</td>\n",
       "      <td>0.59</td>\n",
       "      <td>JOHNSTON</td>\n",
       "      <td>Polk</td>\n",
       "      <td>Feb</td>\n",
       "      <td>2013</td>\n",
       "      <td>20.70</td>\n",
       "      <td>10.35</td>\n",
       "    </tr>\n",
       "    <tr>\n",
       "      <th>8</th>\n",
       "      <td>S09423900016</td>\n",
       "      <td>2012-12-12</td>\n",
       "      <td>4625</td>\n",
       "      <td>Kwik Shop #532 / Council Bluffs</td>\n",
       "      <td>COUNCIL BLUFFS</td>\n",
       "      <td>51501</td>\n",
       "      <td>IMPORTED VODKA</td>\n",
       "      <td>Pernod Ricard USA/Austin Nichols</td>\n",
       "      <td>Absolut Swedish Vodka 80 Prf Mini</td>\n",
       "      <td>10</td>\n",
       "      <td>600</td>\n",
       "      <td>7.92</td>\n",
       "      <td>11.88</td>\n",
       "      <td>1</td>\n",
       "      <td>11.88</td>\n",
       "      <td>0.60</td>\n",
       "      <td>0.16</td>\n",
       "      <td>COUNCIL BLUFFS</td>\n",
       "      <td>Pottawattamie</td>\n",
       "      <td>Dec</td>\n",
       "      <td>2012</td>\n",
       "      <td>7.92</td>\n",
       "      <td>3.96</td>\n",
       "    </tr>\n",
       "    <tr>\n",
       "      <th>9</th>\n",
       "      <td>S11449100031</td>\n",
       "      <td>2013-04-03</td>\n",
       "      <td>3925</td>\n",
       "      <td>Johncy's Liquor Store Inc</td>\n",
       "      <td>NORTH LIBERTY</td>\n",
       "      <td>52317</td>\n",
       "      <td>VODKA 80 PROOF</td>\n",
       "      <td>Diageo Americas</td>\n",
       "      <td>Smirnoff Vodka 80 Prf</td>\n",
       "      <td>12</td>\n",
       "      <td>1000</td>\n",
       "      <td>8.95</td>\n",
       "      <td>13.43</td>\n",
       "      <td>12</td>\n",
       "      <td>161.16</td>\n",
       "      <td>12.00</td>\n",
       "      <td>3.17</td>\n",
       "      <td>NORTH LIBERTY</td>\n",
       "      <td>Iowa</td>\n",
       "      <td>Apr</td>\n",
       "      <td>2013</td>\n",
       "      <td>107.40</td>\n",
       "      <td>53.76</td>\n",
       "    </tr>\n",
       "  </tbody>\n",
       "</table>\n",
       "</div>"
      ],
      "text/plain": [
       "  Invoice/ItemNumber       Date  StoreNumber  \\\n",
       "0       S13206600042 2013-07-08         3908   \n",
       "1       S29065400007 2015-11-16         2555   \n",
       "2       S08372100023 2012-10-16         3816   \n",
       "3       S27992700007 2015-09-21         4898   \n",
       "4       S11403900036 2013-04-02         3858   \n",
       "5       S19526900004 2014-06-12         4819   \n",
       "6       S04958400027 2012-04-10         4488   \n",
       "7       S10436800050 2013-02-05         2962   \n",
       "8       S09423900016 2012-12-12         4625   \n",
       "9       S11449100031 2013-04-03         3925   \n",
       "\n",
       "                             StoreName          City_x ZipCode  \\\n",
       "0    County Market #214 / Fort Madison    FORT MADISON   52627   \n",
       "1           Hy-Vee Food Store / Keokuk          KEOKUK   52632   \n",
       "2                                Swils         RED OAK   51566   \n",
       "3                     Burlington Shell      BURLINGTON   52601   \n",
       "4      Harolds Jack N Jill / Davenport       DAVENPORT   52806   \n",
       "5               Super Stop 2 / Altoona         ALTOONA   50009   \n",
       "6  Casey's General Store #2762 / Cedar    CEDAR RAPIDS   52404   \n",
       "7                    Dahl's / Johnston        JOHNSTON   50131   \n",
       "8      Kwik Shop #532 / Council Bluffs  COUNCIL BLUFFS   51501   \n",
       "9            Johncy's Liquor Store Inc   NORTH LIBERTY   52317   \n",
       "\n",
       "            CategoryName                        VendorName  \\\n",
       "0         VODKA FLAVORED         Phillips Beverage Company   \n",
       "1         VODKA 80 PROOF                   Diageo Americas   \n",
       "2         VODKA FLAVORED         Phillips Beverage Company   \n",
       "3         VODKA 80 PROOF                   Diageo Americas   \n",
       "4         VODKA FLAVORED         Phillips Beverage Company   \n",
       "5         VODKA 80 PROOF             Sazerac North America   \n",
       "6  IMPORTED VODKA - MISC  Pernod Ricard USA/Austin Nichols   \n",
       "7         VODKA 80 PROOF              E AND J GALLO WINERY   \n",
       "8         IMPORTED VODKA  Pernod Ricard USA/Austin Nichols   \n",
       "9         VODKA 80 PROOF                   Diageo Americas   \n",
       "\n",
       "                     ItemDescription  Pack  BottleVolume(ml)  StateBottleCost  \\\n",
       "0          Uv Blue (raspberry) Vodka    12              1000             7.50   \n",
       "1              Smirnoff Vodka 80 Prf    12               750             8.25   \n",
       "2          Uv Blue (raspberry) Vodka    12               750             6.25   \n",
       "3              Smirnoff Vodka 80 Prf    48               200             2.75   \n",
       "4                  UV Candy Bar Mini     6               500            29.30   \n",
       "5                       Barton Vodka     6              1750             6.92   \n",
       "6                   Absolut Ruby Red    12               750            10.89   \n",
       "7                New Amsterdam Vodka    12               750             6.90   \n",
       "8  Absolut Swedish Vodka 80 Prf Mini    10               600             7.92   \n",
       "9              Smirnoff Vodka 80 Prf    12              1000             8.95   \n",
       "\n",
       "   StateBottleRetail  BottlesSold  Total_Sales  VolumeSold(Liters)  \\\n",
       "0              11.25           12       135.00               12.00   \n",
       "1              12.38           12       148.56                9.00   \n",
       "2               9.49           12       113.88                9.00   \n",
       "3               4.13           10        41.30                2.00   \n",
       "4              43.95            1        43.95                0.50   \n",
       "5              10.38            6        62.28               10.50   \n",
       "6              16.33            4        65.32                3.00   \n",
       "7              10.35            3        31.05                2.25   \n",
       "8              11.88            1        11.88                0.60   \n",
       "9              13.43           12       161.16               12.00   \n",
       "\n",
       "   VolumeSold(Gallons)          City_y         County Month  Year  Total_Cost  \\\n",
       "0                 3.17    FORT MADISON            Lee   Jul  2013       90.00   \n",
       "1                 2.38          KEOKUK            Lee   Nov  2015       99.00   \n",
       "2                 2.38         RED OAK     Montgomery   Oct  2012       75.00   \n",
       "3                 0.53      BURLINGTON     Des Moines   Sep  2015       27.50   \n",
       "4                 0.13       DAVENPORT          Scott   Apr  2013       29.30   \n",
       "5                 2.77         ALTOONA           Polk   Jun  2014       41.52   \n",
       "6                 0.79    CEDAR RAPIDS           Linn   Apr  2012       43.56   \n",
       "7                 0.59        JOHNSTON           Polk   Feb  2013       20.70   \n",
       "8                 0.16  COUNCIL BLUFFS  Pottawattamie   Dec  2012        7.92   \n",
       "9                 3.17   NORTH LIBERTY           Iowa   Apr  2013      107.40   \n",
       "\n",
       "   Total_Profit  \n",
       "0         45.00  \n",
       "1         49.56  \n",
       "2         38.88  \n",
       "3         13.80  \n",
       "4         14.65  \n",
       "5         20.76  \n",
       "6         21.76  \n",
       "7         10.35  \n",
       "8          3.96  \n",
       "9         53.76  "
      ]
     },
     "execution_count": 59,
     "metadata": {},
     "output_type": "execute_result"
    }
   ],
   "source": [
    "new = vodka.sort_values(['Total_Profit'], ascending=False).groupby('County').head(5)\n",
    "\n",
    "new_vodkadata = vodka.head(10)\n",
    "new_vodkadata"
   ]
  },
  {
   "cell_type": "markdown",
   "metadata": {},
   "source": [
    "## Which are the top 8 counties having highest vodka sales?"
   ]
  },
  {
   "cell_type": "code",
   "execution_count": 60,
   "metadata": {},
   "outputs": [
    {
     "name": "stdout",
     "output_type": "stream",
     "text": [
      "Total_Sales\n",
      "11.88     1\n",
      "31.05     1\n",
      "41.30     1\n",
      "43.95     1\n",
      "62.28     1\n",
      "65.32     1\n",
      "113.88    1\n",
      "135.00    1\n",
      "148.56    1\n",
      "161.16    1\n",
      "dtype: int64\n"
     ]
    },
    {
     "data": {
      "image/png": "[encoded data removed]",
      "text/plain": [
       "<Figure size 720x432 with 1 Axes>"
      ]
     },
     "metadata": {},
     "output_type": "display_data"
    }
   ],
   "source": [
    "county_sales = pd.crosstab(new_vodkadata.Total_Sales,new_vodkadata.County)\n",
    "county_total = county_sales.sum(axis=1).sort_values(ascending = False)\n",
    "print(county_total)\n",
    "plt.figure(figsize=(10,6))\n",
    "a = sns.barplot(y = county_total.index, x = new_vodkadata.County, ci=None).set(title= 'Highest Sales in top 8 counties', ylim=(0, 180))\n",
    "plt.ylabel = \"County\"\n",
    "plt.xlabel = \"Sales\"\n",
    "plt.show()\n"
   ]
  },
  {
   "cell_type": "markdown",
   "metadata": {},
   "source": [
    "## Which are the top 8 counties having highest profit for vodka sales?"
   ]
  },
  {
   "cell_type": "code",
   "execution_count": 61,
   "metadata": {},
   "outputs": [
    {
     "name": "stdout",
     "output_type": "stream",
     "text": [
      "Total_Profit\n",
      "3.96     1\n",
      "10.35    1\n",
      "13.80    1\n",
      "14.65    1\n",
      "20.76    1\n",
      "21.76    1\n",
      "38.88    1\n",
      "45.00    1\n",
      "49.56    1\n",
      "53.76    1\n",
      "dtype: int64\n"
     ]
    },
    {
     "data": {
      "image/png": "[encoded data removed]",
      "text/plain": [
       "<Figure size 576x432 with 1 Axes>"
      ]
     },
     "metadata": {},
     "output_type": "display_data"
    }
   ],
   "source": [
    "county_sales = pd.crosstab(new_vodkadata.Total_Profit,new_vodkadata.County)\n",
    "county_total = county_sales.sum(axis=1).sort_values(ascending = False)\n",
    "print(county_total)\n",
    "plt.figure(figsize=(8,6))\n",
    "a = sns.barplot(y = county_total.index, x = new_vodkadata.County, ci=None).set(title= 'Profits with respect to sales', ylim=(0, 80))\n",
    "plt.ylabel = \"County\"\n",
    "plt.xlabel = \"Sales\"\n",
    "\n",
    "plt.show()\n"
   ]
  },
  {
   "cell_type": "markdown",
   "metadata": {},
   "source": [
    "## Checking relationship between variables"
   ]
  },
  {
   "cell_type": "code",
   "execution_count": 62,
   "metadata": {},
   "outputs": [
    {
     "data": {
      "text/plain": [
       "<AxesSubplot:>"
      ]
     },
     "execution_count": 62,
     "metadata": {},
     "output_type": "execute_result"
    },
    {
     "data": {
      "image/png": "[encoded data removed]",
      "text/plain": [
       "<Figure size 1440x720 with 2 Axes>"
      ]
     },
     "metadata": {},
     "output_type": "display_data"
    }
   ],
   "source": [
    "vodka_num=vodka.copy()\n",
    "\n",
    "vodka_num.drop(['StoreNumber','Pack','Year'], axis=1, inplace=True)\n",
    "\n",
    "# Finding the relations between the variables.\n",
    "sns.set()\n",
    "plt.figure(figsize=(20, 10))\n",
    "c = vodka_num.corr()\n",
    "sns.heatmap(c, cmap=\"Accent\", annot=True)"
   ]
  },
  {
   "cell_type": "markdown",
   "metadata": {},
   "source": [
    "## Summary Statistics"
   ]
  },
  {
   "cell_type": "code",
   "execution_count": 63,
   "metadata": {},
   "outputs": [
    {
     "data": {
      "text/html": [
       "<div>\n",
       "<style scoped>\n",
       "    .dataframe tbody tr th:only-of-type {\n",
       "        vertical-align: middle;\n",
       "    }\n",
       "\n",
       "    .dataframe tbody tr th {\n",
       "        vertical-align: top;\n",
       "    }\n",
       "\n",
       "    .dataframe thead th {\n",
       "        text-align: right;\n",
       "    }\n",
       "</style>\n",
       "<table border=\"1\" class=\"dataframe\">\n",
       "  <thead>\n",
       "    <tr style=\"text-align: right;\">\n",
       "      <th></th>\n",
       "      <th>BottleVolume(ml)</th>\n",
       "      <th>StateBottleCost</th>\n",
       "      <th>StateBottleRetail</th>\n",
       "      <th>BottlesSold</th>\n",
       "      <th>Total_Sales</th>\n",
       "      <th>VolumeSold(Liters)</th>\n",
       "      <th>VolumeSold(Gallons)</th>\n",
       "      <th>Total_Cost</th>\n",
       "      <th>Total_Profit</th>\n",
       "    </tr>\n",
       "  </thead>\n",
       "  <tbody>\n",
       "    <tr>\n",
       "      <th>count</th>\n",
       "      <td>2.532290e+06</td>\n",
       "      <td>2.532290e+06</td>\n",
       "      <td>2.532290e+06</td>\n",
       "      <td>2.532290e+06</td>\n",
       "      <td>2.532290e+06</td>\n",
       "      <td>2.532290e+06</td>\n",
       "      <td>2.532290e+06</td>\n",
       "      <td>2.532290e+06</td>\n",
       "      <td>2.532290e+06</td>\n",
       "    </tr>\n",
       "    <tr>\n",
       "      <th>mean</th>\n",
       "      <td>9.559812e+02</td>\n",
       "      <td>8.048562e+00</td>\n",
       "      <td>1.210177e+01</td>\n",
       "      <td>1.116532e+01</td>\n",
       "      <td>1.177309e+02</td>\n",
       "      <td>1.051238e+01</td>\n",
       "      <td>2.777313e+00</td>\n",
       "      <td>7.830742e+01</td>\n",
       "      <td>3.942346e+01</td>\n",
       "    </tr>\n",
       "    <tr>\n",
       "      <th>std</th>\n",
       "      <td>4.833656e+02</td>\n",
       "      <td>4.785426e+00</td>\n",
       "      <td>7.184481e+00</td>\n",
       "      <td>2.611622e+01</td>\n",
       "      <td>3.494467e+02</td>\n",
       "      <td>3.442404e+01</td>\n",
       "      <td>9.093895e+00</td>\n",
       "      <td>2.322998e+02</td>\n",
       "      <td>1.172159e+02</td>\n",
       "    </tr>\n",
       "    <tr>\n",
       "      <th>min</th>\n",
       "      <td>5.000000e+01</td>\n",
       "      <td>0.000000e+00</td>\n",
       "      <td>0.000000e+00</td>\n",
       "      <td>1.000000e+00</td>\n",
       "      <td>0.000000e+00</td>\n",
       "      <td>1.000000e-01</td>\n",
       "      <td>3.000000e-02</td>\n",
       "      <td>0.000000e+00</td>\n",
       "      <td>-3.600000e+01</td>\n",
       "    </tr>\n",
       "    <tr>\n",
       "      <th>25%</th>\n",
       "      <td>7.500000e+02</td>\n",
       "      <td>4.550000e+00</td>\n",
       "      <td>6.830000e+00</td>\n",
       "      <td>3.000000e+00</td>\n",
       "      <td>3.537000e+01</td>\n",
       "      <td>2.250000e+00</td>\n",
       "      <td>5.900000e-01</td>\n",
       "      <td>2.355000e+01</td>\n",
       "      <td>1.182000e+01</td>\n",
       "    </tr>\n",
       "    <tr>\n",
       "      <th>50%</th>\n",
       "      <td>7.500000e+02</td>\n",
       "      <td>7.200000e+00</td>\n",
       "      <td>1.079000e+01</td>\n",
       "      <td>6.000000e+00</td>\n",
       "      <td>6.480000e+01</td>\n",
       "      <td>9.000000e+00</td>\n",
       "      <td>2.380000e+00</td>\n",
       "      <td>4.320000e+01</td>\n",
       "      <td>2.160000e+01</td>\n",
       "    </tr>\n",
       "    <tr>\n",
       "      <th>75%</th>\n",
       "      <td>1.000000e+03</td>\n",
       "      <td>9.650000e+00</td>\n",
       "      <td>1.448000e+01</td>\n",
       "      <td>1.200000e+01</td>\n",
       "      <td>1.294800e+02</td>\n",
       "      <td>1.050000e+01</td>\n",
       "      <td>2.770000e+00</td>\n",
       "      <td>8.616000e+01</td>\n",
       "      <td>4.308000e+01</td>\n",
       "    </tr>\n",
       "    <tr>\n",
       "      <th>max</th>\n",
       "      <td>9.000000e+03</td>\n",
       "      <td>1.559900e+02</td>\n",
       "      <td>2.339900e+02</td>\n",
       "      <td>5.280000e+03</td>\n",
       "      <td>6.800400e+04</td>\n",
       "      <td>6.300000e+03</td>\n",
       "      <td>1.664280e+03</td>\n",
       "      <td>4.532400e+04</td>\n",
       "      <td>2.268000e+04</td>\n",
       "    </tr>\n",
       "  </tbody>\n",
       "</table>\n",
       "</div>"
      ],
      "text/plain": [
       "       BottleVolume(ml)  StateBottleCost  StateBottleRetail   BottlesSold  \\\n",
       "count      2.532290e+06     2.532290e+06       2.532290e+06  2.532290e+06   \n",
       "mean       9.559812e+02     8.048562e+00       1.210177e+01  1.116532e+01   \n",
       "std        4.833656e+02     4.785426e+00       7.184481e+00  2.611622e+01   \n",
       "min        5.000000e+01     0.000000e+00       0.000000e+00  1.000000e+00   \n",
       "25%        7.500000e+02     4.550000e+00       6.830000e+00  3.000000e+00   \n",
       "50%        7.500000e+02     7.200000e+00       1.079000e+01  6.000000e+00   \n",
       "75%        1.000000e+03     9.650000e+00       1.448000e+01  1.200000e+01   \n",
       "max        9.000000e+03     1.559900e+02       2.339900e+02  5.280000e+03   \n",
       "\n",
       "        Total_Sales  VolumeSold(Liters)  VolumeSold(Gallons)    Total_Cost  \\\n",
       "count  2.532290e+06        2.532290e+06         2.532290e+06  2.532290e+06   \n",
       "mean   1.177309e+02        1.051238e+01         2.777313e+00  7.830742e+01   \n",
       "std    3.494467e+02        3.442404e+01         9.093895e+00  2.322998e+02   \n",
       "min    0.000000e+00        1.000000e-01         3.000000e-02  0.000000e+00   \n",
       "25%    3.537000e+01        2.250000e+00         5.900000e-01  2.355000e+01   \n",
       "50%    6.480000e+01        9.000000e+00         2.380000e+00  4.320000e+01   \n",
       "75%    1.294800e+02        1.050000e+01         2.770000e+00  8.616000e+01   \n",
       "max    6.800400e+04        6.300000e+03         1.664280e+03  4.532400e+04   \n",
       "\n",
       "       Total_Profit  \n",
       "count  2.532290e+06  \n",
       "mean   3.942346e+01  \n",
       "std    1.172159e+02  \n",
       "min   -3.600000e+01  \n",
       "25%    1.182000e+01  \n",
       "50%    2.160000e+01  \n",
       "75%    4.308000e+01  \n",
       "max    2.268000e+04  "
      ]
     },
     "execution_count": 63,
     "metadata": {},
     "output_type": "execute_result"
    }
   ],
   "source": [
    "#Summary Statistics\n",
    "vodka_num.describe()"
   ]
  },
  {
   "cell_type": "markdown",
   "metadata": {},
   "source": [
    "## Checking relationship between State Bottle Cost and State Bottle Retail Price"
   ]
  },
  {
   "cell_type": "code",
   "execution_count": 64,
   "metadata": {},
   "outputs": [
    {
     "data": {
      "image/png": "[encoded data removed]",
      "text/plain": [
       "<Figure size 720x432 with 1 Axes>"
      ]
     },
     "metadata": {},
     "output_type": "display_data"
    }
   ],
   "source": [
    "fig, ax = plt.subplots(figsize=(10, 6))\n",
    "\n",
    "# Define x and y axes\n",
    "ax.scatter(vodka.StateBottleCost,vodka.StateBottleRetail, color = 'red')\n",
    "\n",
    "# Set plot title and axes labels\n",
    "ax.set(title = 'Relation between State Bottle Cost and State Bottle Retail Price',\n",
    "       xlabel = \"State Bottle Cost\",\n",
    "       ylabel = \"State Bottle Retail Price\")\n",
    "ax.grid(color='grey')\n",
    "\n",
    "plt.show()"
   ]
  }
 ],
 "metadata": {
  "kernelspec": {
   "display_name": "Python 3",
   "language": "python",
   "name": "python3"
  },
  "language_info": {
   "codemirror_mode": {
    "name": "ipython",
    "version": 3
   },
   "file_extension": ".py",
   "mimetype": "text/x-python",
   "name": "python",
   "nbconvert_exporter": "python",
   "pygments_lexer": "ipython3",
   "version": "3.7.6"
  }
 },
 "nbformat": 4,
 "nbformat_minor": 4
}
